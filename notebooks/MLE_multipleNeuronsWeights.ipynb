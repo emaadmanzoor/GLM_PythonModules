{
 "cells": [
  {
   "cell_type": "markdown",
   "metadata": {},
   "source": [
    "#### This notebook presents how to perform maximum-likelihood parameter estimation for multiple neurons.  The neurons depend on each other through a set of weights."
   ]
  },
  {
   "cell_type": "code",
   "execution_count": 1,
   "metadata": {
    "collapsed": true
   },
   "outputs": [],
   "source": [
    "import numpy as np\n",
    "import matplotlib.pyplot as plt\n",
    "import pandas as pd\n",
    "import random\n",
    "import csv\n",
    "%matplotlib inline"
   ]
  },
  {
   "cell_type": "code",
   "execution_count": 2,
   "metadata": {
    "collapsed": false
   },
   "outputs": [],
   "source": [
    "import os\n",
    "import sys\n",
    "sys.path.append(os.path.join(os.getcwd(),'..'))\n",
    "sys.path.append(os.path.join(os.getcwd(),'..','code'))\n",
    "sys.path.append(os.path.join(os.getcwd(),'..','data'))"
   ]
  },
  {
   "cell_type": "code",
   "execution_count": 3,
   "metadata": {
    "collapsed": true
   },
   "outputs": [],
   "source": [
    "import filters\n",
    "import likelihood_functions as lk\n",
    "import PoissonProcessClasses as PP\n",
    "import auxiliary_functions as auxfun"
   ]
  },
  {
   "cell_type": "code",
   "execution_count": 4,
   "metadata": {
    "collapsed": false
   },
   "outputs": [
    {
     "data": {
      "text/plain": [
       "<module 'PoissonProcessClasses' from '/Users/val/MEGAsync/GLM_PythonModules/notebooks/../code/PoissonProcessClasses.py'>"
      ]
     },
     "execution_count": 4,
     "metadata": {},
     "output_type": "execute_result"
    }
   ],
   "source": [
    "import imp\n",
    "imp.reload(filters)\n",
    "imp.reload(lk)\n",
    "imp.reload(auxfun)\n",
    "imp.reload(PP)\n"
   ]
  },
  {
   "cell_type": "code",
   "execution_count": null,
   "metadata": {
    "collapsed": false
   },
   "outputs": [],
   "source": []
  },
  {
   "cell_type": "code",
   "execution_count": 5,
   "metadata": {
    "collapsed": true
   },
   "outputs": [],
   "source": [
    "# Number of neurons\n",
    "nofCells = 2"
   ]
  },
  {
   "cell_type": "markdown",
   "metadata": {},
   "source": [
    "Reading input-output data:"
   ]
  },
  {
   "cell_type": "code",
   "execution_count": 6,
   "metadata": {
    "collapsed": false
   },
   "outputs": [],
   "source": [
    "# creating the path to the data\n",
    "data_path = os.path.join(os.getcwd(),'..','data')\n",
    "\n",
    "# reading stimulus\n",
    "Stim = np.array(pd.read_csv(os.path.join(data_path,'Stim2.csv'),header = None))\n",
    "\n",
    "# reading location of spikes\n",
    "# (lengths of tsp sequences are not equal so reading them line by line)\n",
    "tsp_list = []\n",
    "with open(os.path.join(data_path,'tsp2.csv')) as csvfile:\n",
    "    tspreader = csv.reader(csvfile)\n",
    "    for row in tspreader:\n",
    "        tsp_list.append(row)"
   ]
  },
  {
   "cell_type": "markdown",
   "metadata": {},
   "source": [
    "Extracting a spike train from spike positions:"
   ]
  },
  {
   "cell_type": "code",
   "execution_count": 7,
   "metadata": {
    "collapsed": false
   },
   "outputs": [],
   "source": [
    "dt = 0.01\n",
    "y_list = []\n",
    "for tsp in tsp_list:\n",
    "    tsp = np.array(tsp).astype(np.float)\n",
    "    tsp_int = np.ceil((tsp - dt*0.001)/dt)\n",
    "    tsp_int = np.reshape(tsp_int,(tsp_int.shape[0],1))\n",
    "    tsp_int = tsp_int.astype(int)\n",
    "    y_list.append(np.array([item in tsp_int for item in np.arange(Stim.shape[0]/dt)+1]).astype(int))"
   ]
  },
  {
   "cell_type": "markdown",
   "metadata": {},
   "source": [
    "Creating filters:"
   ]
  },
  {
   "cell_type": "code",
   "execution_count": 8,
   "metadata": {
    "collapsed": true
   },
   "outputs": [],
   "source": [
    "# create a stimulus filter\n",
    "kpeaks = np.array([0,round(20/3)])\n",
    "pars_k = {'neye':5,'n':5,'kpeaks':kpeaks,'b':3}\n",
    "K,K_orth,kt_domain = filters.createStimulusBasis(pars_k, nkt = 20) "
   ]
  },
  {
   "cell_type": "code",
   "execution_count": 9,
   "metadata": {
    "collapsed": true
   },
   "outputs": [],
   "source": [
    "# create a post-spike filter\n",
    "hpeaks = np.array([0.1,2])\n",
    "pars_h = {'n':5,'hpeaks':hpeaks,'b':.4}\n",
    "H,H_orth,ht_domain = filters.createPostSpikeBasis(pars_h,dt)"
   ]
  },
  {
   "cell_type": "code",
   "execution_count": 10,
   "metadata": {
    "collapsed": false
   },
   "outputs": [],
   "source": [
    "# Interpolate Post Spike Filter\n",
    "MSP = auxfun.makeInterpMatrix(len(ht_domain),1)\n",
    "MSP[0,0] = 0\n",
    "H_orth = np.dot(MSP,H_orth)"
   ]
  },
  {
   "cell_type": "markdown",
   "metadata": {},
   "source": [
    "Conditional Intensity (spike rate):\n",
    "$$\\lambda_{\\beta}(i) = \\exp(K(\\beta_k)*Stim + H(\\beta_h)*y + \\sum_{j\\ne i}w_j I(\\beta_{I})*y_j) + \\mu$$"
   ]
  },
  {
   "cell_type": "markdown",
   "metadata": {},
   "source": []
  },
  {
   "cell_type": "markdown",
   "metadata": {},
   "source": [
    "$$\\lambda_{\\beta}(i) = \\exp(M_k\\beta_k + M_h \\beta_h + Y w + \\mu)$$"
   ]
  },
  {
   "cell_type": "markdown",
   "metadata": {},
   "source": [
    "Creating a matrix of covariates:"
   ]
  },
  {
   "cell_type": "code",
   "execution_count": 11,
   "metadata": {
    "collapsed": false
   },
   "outputs": [
    {
     "name": "stdout",
     "output_type": "stream",
     "text": [
      "207.253227804\n"
     ]
    }
   ],
   "source": [
    "M_k = lk.construct_M_k(Stim,K,dt)"
   ]
  },
  {
   "cell_type": "code",
   "execution_count": null,
   "metadata": {
    "collapsed": false
   },
   "outputs": [],
   "source": []
  },
  {
   "cell_type": "code",
   "execution_count": 12,
   "metadata": {
    "collapsed": false
   },
   "outputs": [],
   "source": [
    "M_h_list = []\n",
    "for tsp in tsp_list:\n",
    "    tsp = np.array(tsp).astype(np.float)\n",
    "    M_h_list.append(lk.construct_M_h(tsp,H_orth,dt,Stim))\n",
    "\n"
   ]
  },
  {
   "cell_type": "code",
   "execution_count": 13,
   "metadata": {
    "collapsed": false
   },
   "outputs": [],
   "source": [
    "# creating a matrix of output covariates\n",
    "Y = np.array(y_list).T"
   ]
  },
  {
   "cell_type": "markdown",
   "metadata": {},
   "source": [
    "<!---Simulating a neuron spike trains:-->"
   ]
  },
  {
   "cell_type": "code",
   "execution_count": 24,
   "metadata": {
    "collapsed": false
   },
   "outputs": [],
   "source": [
    "M_list = []\n",
    "for i in range(len(M_h_list)):\n",
    "    # exclude the i'th spike-train\n",
    "    M_list.append(np.hstack((M_k,M_h_list[i],np.delete(Y,i,1),np.ones((M_k.shape[0],1)))))\n",
    "    #M_list.append(np.hstack((M_k,M_h_list[i],np.ones((M_h.shape[0],1)))))"
   ]
  },
  {
   "cell_type": "markdown",
   "metadata": {},
   "source": [
    "Conditional intensity as a function of the covariates:\n",
    "$$ \\lambda_{\\beta} = \\exp(M\\beta) $$"
   ]
  },
  {
   "cell_type": "markdown",
   "metadata": {},
   "source": [
    "Setting initial parameters:"
   ]
  },
  {
   "cell_type": "code",
   "execution_count": 25,
   "metadata": {
    "collapsed": false
   },
   "outputs": [],
   "source": [
    "coeff_k0 = np.array([ 0.061453,0.284916,0.860335,1.256983,0.910615,0.488660,-0.887091,0.097441,0.026607,-0.090147])\n",
    "coeff_h0 = np.zeros((5,))\n",
    "coeff_w0 = np.zeros((nofCells,))\n",
    "mu_0 = 0\n",
    "\n",
    "pars0 = np.hstack((coeff_k0,coeff_h0,coeff_w0,mu_0))\n",
    "pars0 = np.hstack((coeff_k0,coeff_h0,mu_0))\n",
    "pars0 = np.zeros((17,))"
   ]
  },
  {
   "cell_type": "markdown",
   "metadata": {},
   "source": [
    "Fitting the likelihood:"
   ]
  },
  {
   "cell_type": "code",
   "execution_count": 26,
   "metadata": {
    "collapsed": false
   },
   "outputs": [
    {
     "name": "stdout",
     "output_type": "stream",
     "text": [
      "25.0\n",
      "-2370.91555267\n",
      "-2651.66031375\n",
      "-2586.84402508\n",
      "-2790.27181698\n",
      "-2944.31850754\n",
      "-3064.36090651\n",
      "-3142.99215553\n",
      "-3219.60005413\n",
      "-3263.66116582\n",
      "-3383.31699087\n",
      "-3438.24346929\n",
      "-3491.1313386\n",
      "-3530.93088474\n",
      "-3598.41697668\n",
      "-3665.57706446\n",
      "-3632.92946272\n",
      "-3691.88463173\n",
      "-3717.88464084\n",
      "-3740.41582874\n",
      "-3746.57514425\n",
      "-3749.53197558\n",
      "-3752.08731379\n",
      "-3758.09575081\n",
      "-3772.35362298\n",
      "-3794.4806474\n",
      "-3831.87625386\n",
      "-3886.7354796\n",
      "-3922.49715109\n",
      "-3956.50693795\n",
      "-3992.33699331\n",
      "-4125.18462257\n",
      "-4413.87686531\n",
      "-3618.3163967\n",
      "-4489.29639788\n",
      "-4712.42177482\n",
      "-4846.83333052\n",
      "-4941.95107109\n",
      "-4976.29120482\n",
      "-4985.05683941\n",
      "-4990.6265096\n",
      "-4980.08277636\n",
      "-4991.13691361\n",
      "-4991.81479836\n",
      "-4992.74356026\n",
      "-4993.32243034\n",
      "-4993.8265394\n",
      "-4994.28515079\n",
      "-4994.93743572\n",
      "-4995.92758122\n",
      "-4998.08679556\n",
      "-5001.80665683\n",
      "-5009.3330824\n",
      "-5028.92469084\n",
      "-5063.46188559\n",
      "-5100.54858457\n",
      "-5082.19656408\n",
      "-5134.97708252\n",
      "-5169.41107218\n",
      "-5176.02593733\n",
      "-5182.78927326\n",
      "-5190.64548854\n",
      "-5195.61328077\n",
      "-5206.827882\n",
      "-5211.64687652\n",
      "-5215.66415765\n",
      "-5216.459103\n",
      "-5216.73117095\n",
      "-5216.96570182\n",
      "-5217.92537964\n",
      "-5218.84804553\n",
      "-5214.8568745\n",
      "-5219.76149983\n",
      "-5221.94581152\n",
      "-5224.99930041\n",
      "-5227.51427801\n",
      "-5230.07366114\n",
      "-5232.08205942\n",
      "-5234.49391462\n",
      "-5236.00745256\n",
      "-5236.77112158\n",
      "-5234.19047347\n",
      "-5236.96288686\n",
      "-5237.28065186\n",
      "-5237.55576274\n",
      "-5237.83437768\n",
      "-5238.26784428\n",
      "-5238.91357713\n",
      "-5239.4416856\n",
      "-5240.03259778\n",
      "-5240.38422929\n",
      "-5240.61202065\n",
      "-5240.74249226\n",
      "-5240.84223611\n",
      "-5240.97756665\n",
      "-5241.14572131\n",
      "-5241.33762828\n",
      "-5241.46198039\n",
      "-5241.53432305\n",
      "-5241.57663391\n",
      "-5241.60793621\n",
      "-5241.657586\n",
      "-5241.67242461\n",
      "-5241.6985662\n",
      "-5241.72338478\n",
      "-5241.78368546\n",
      "-5241.87846479\n",
      "-5242.04250449\n",
      "-5241.8455671\n",
      "-5242.11365686\n",
      "-5242.23579456\n",
      "-5242.27712791\n",
      "-5242.32743413\n",
      "-5242.36188426\n",
      "-5242.42620682\n",
      "-5242.50132188\n",
      "-5242.60490277\n",
      "-5242.69673184\n",
      "-5242.78103178\n",
      "-5242.85574473\n",
      "-5242.93364959\n",
      "-5243.04625199\n",
      "-5243.17633454\n",
      "-5243.29126017\n",
      "-5243.52185804\n",
      "-5243.58381484\n",
      "-5243.70902017\n",
      "-5243.76856991\n",
      "-5243.83212835\n",
      "-5243.92299469\n",
      "-5244.12228584\n",
      "-5244.37299932\n",
      "-5244.6237321\n",
      "-5244.95310661\n",
      "-5245.21453522\n",
      "-5245.43591806\n",
      "-5245.68847056\n",
      "-5245.87811408\n",
      "-5246.02432817\n",
      "-5246.23208477\n",
      "-5246.73440449\n",
      "-5247.43055631\n",
      "-5246.49968542\n",
      "-5247.7861928\n",
      "-5248.48984445\n",
      "-5248.70837068\n",
      "-5248.82376816\n",
      "-5248.94171716\n",
      "-5249.12812429\n",
      "-5248.92810934\n",
      "-5249.19459735\n",
      "-5249.33022802\n",
      "-5249.45234661\n",
      "-5249.53744959\n",
      "-5249.6525196\n",
      "-5249.65465141\n",
      "-5249.70111882\n",
      "-5249.75369347\n",
      "-5249.77292227\n",
      "-5249.78139817\n",
      "-5249.80738182\n",
      "-5249.8613442\n",
      "-5249.89176511\n",
      "-5249.94904821\n",
      "-5249.97116243\n",
      "-5249.99092321\n",
      "-5250.00776678\n",
      "-5250.01867905\n",
      "-5250.02242029\n",
      "-5250.02457096\n",
      "-5250.02761837\n",
      "-5250.031998\n",
      "-5250.03501853\n",
      "-5250.03607133\n",
      "-5250.03706158\n",
      "-5250.03749317\n",
      "-5250.03807894\n",
      "-5250.03931201\n",
      "-5250.04065261\n",
      "-5250.04295989\n",
      "-5250.04466623\n",
      "-5250.04727147\n",
      "-5250.04950278\n",
      "-5250.0527466\n",
      "-5250.05827763\n",
      "-5250.06719257\n",
      "-5250.09926607\n",
      "-5250.12884545\n",
      "-5250.16756401\n",
      "-5250.21956749\n",
      "-5249.57177201\n",
      "-5250.23045222\n",
      "-5250.25396939\n",
      "-5250.2667597\n",
      "-5250.28227888\n",
      "-5250.2922554\n",
      "-5250.29547981\n",
      "-5250.29556815\n",
      "-5250.29599233\n",
      "-5250.29662663\n",
      "-5250.2974736\n",
      "-5250.29937299\n",
      "-5250.30172238\n",
      "-5250.3038942\n",
      "-5250.29200202\n",
      "-5250.3044797\n",
      "-5250.30510519\n",
      "-5250.30566913\n",
      "-5250.30706209\n",
      "-5250.30886193\n",
      "-5250.31355209\n",
      "-5250.29798597\n",
      "-5250.31499431\n",
      "-5250.32012882\n",
      "-5250.32419422\n",
      "-5250.32728607\n",
      "-5250.33175538\n",
      "-5250.3392102\n",
      "-5250.343001\n",
      "-5250.3564578\n",
      "-5250.36573414\n",
      "-5250.37980921\n",
      "-5250.40475956\n",
      "-5250.43266253\n",
      "-5250.45973465\n",
      "-5250.48032272\n",
      "-5250.49507322\n",
      "-5250.509067\n",
      "-5250.52548568\n",
      "-5250.52819498\n",
      "-5250.52856953\n",
      "-5250.52884062\n",
      "-5250.52901684\n",
      "-5250.52933328\n",
      "-5250.52979826\n",
      "-5250.53088444\n",
      "-5250.53353329\n",
      "-5250.53683412\n",
      "-5250.54039769\n",
      "-5250.54397019\n",
      "-5250.54644431\n",
      "-5250.54974225\n",
      "-5250.55424729\n",
      "-5250.5611905\n",
      "-5250.5662612\n",
      "-5250.5704387\n",
      "-5250.57667319\n",
      "-5250.57827326\n",
      "-5250.57967047\n",
      "-5250.58168593\n",
      "-5250.58478212\n",
      "-5250.58686789\n",
      "-5250.59125986\n",
      "-5250.59300744\n",
      "-5250.59382512\n",
      "-5250.59297764\n",
      "-5250.59398393\n",
      "-5250.59420296\n",
      "-5250.5943665\n",
      "-5250.59460396\n",
      "-5250.59488442\n",
      "-5250.59543712\n",
      "-5250.59720154\n",
      "-5250.5984468\n",
      "-5250.59989977\n",
      "-5250.60056173\n",
      "-5250.60284366\n",
      "-5250.60495606\n",
      "-5250.60940094\n",
      "-5250.61642994\n",
      "-5250.63166694\n",
      "-5250.63442217\n",
      "-5250.66275562\n",
      "-5250.67218451\n",
      "-5250.67736878\n",
      "-5250.67491877\n",
      "-5250.67848594\n",
      "-5250.67923231\n",
      "-5250.68033282\n",
      "-5250.68158567\n",
      "-5250.6842222\n",
      "-5250.6881393\n",
      "-5250.64630872\n",
      "-5250.68946099\n",
      "-5250.6924047\n",
      "-5250.69417512\n",
      "-5250.69506109\n",
      "-5250.69686379\n",
      "-5250.70029576\n",
      "-5250.70650824\n",
      "-5250.7198153\n",
      "-5250.70573127\n",
      "-5250.73046068\n",
      "-5250.7416548\n",
      "-5250.75037375\n",
      "-5250.75210151\n",
      "-5250.75256011\n",
      "-5250.75300902\n",
      "-5250.75368385\n",
      "-5250.7545818\n",
      "-5250.75563085\n",
      "-5250.75485025\n",
      "-5250.75640043\n",
      "-5250.75808567\n",
      "-5250.76040419\n",
      "-5250.76541188\n",
      "-5250.77381035\n",
      "-5250.76749898\n",
      "-5250.77710169\n",
      "-5250.7816741\n",
      "-5250.78299306\n",
      "-5250.78103127\n",
      "-5250.78321029\n",
      "-5250.78330364\n",
      "-5250.7835555\n",
      "-5250.78407533\n",
      "-5250.78476431\n",
      "-5250.78530644\n",
      "-5250.78607912\n",
      "-5250.78655473\n",
      "-5250.78703244\n",
      "-5250.78796228\n",
      "-5250.7882216\n",
      "-5250.79031414\n",
      "-5250.79199278\n",
      "-5250.79406346\n",
      "-5250.79684953\n",
      "-5250.80129381\n",
      "-5250.80596502\n",
      "-5250.8093405\n",
      "-5250.81150139\n",
      "-5250.81348027\n",
      "-5250.81717134\n",
      "-5250.81842981\n",
      "-5250.82161439\n",
      "-5250.82327159\n",
      "-5250.82429169\n",
      "-5250.82592049\n",
      "-5250.8263085\n",
      "-5250.82709821\n",
      "-5250.82892097\n",
      "-5250.82915717\n",
      "-5250.8296557\n",
      "-5250.83023218\n",
      "-5250.83074302\n",
      "-5250.8313058\n",
      "-5250.83198066\n",
      "-5250.8323412\n",
      "-5250.83140549\n",
      "-5250.83241362\n",
      "-5250.83253722\n",
      "-5250.83256371\n",
      "-5250.83257814\n",
      "-5250.8325929\n",
      "-5250.83261788\n",
      "-5250.83268199\n",
      "-5250.83274294\n",
      "-5250.83285816\n",
      "-5250.83269687\n",
      "-5250.83289534\n",
      "-5250.83296315\n",
      "-5250.83300414\n",
      "-5250.83305446\n",
      "-5250.83308969\n",
      "-5250.83312021\n",
      "-5250.83314627\n",
      "-5250.83317245\n",
      "-5250.83319105\n",
      "-5250.83321233\n",
      "-5250.83323002\n",
      "-5250.83328334\n",
      "-5250.83333097\n",
      "-5250.83334344\n",
      "-5250.83347546\n",
      "-5250.83354373\n",
      "-5250.83362066\n",
      "-5250.83371776\n",
      "-5250.83386476\n",
      "-5250.83412816\n",
      "-5250.8344084\n",
      "-5250.83489645\n",
      "-5250.83552543\n",
      "-5250.83536268\n",
      "-5250.83589429\n",
      "-5250.83615149\n",
      "-5250.83631113\n",
      "-5250.83639516\n",
      "-5250.83651539\n",
      "-5250.83661817\n",
      "-5250.83668658\n",
      "-5250.83675934\n",
      "-5250.83675971\n",
      "-5250.83677757\n",
      "-5250.83678584\n",
      "25.0\n",
      "-2141.43271759\n",
      "-2308.07835564\n",
      "-2590.62706446\n",
      "-2907.65163453\n",
      "-2991.37137139\n",
      "-3093.65323549\n",
      "-3144.76708044\n",
      "-3228.52606029\n",
      "-3293.61206225\n",
      "-3423.4113976\n",
      "-3543.1712311\n",
      "-3647.78183752\n",
      "-3693.22562846\n",
      "-3719.07042585\n",
      "-3726.25394773\n",
      "-3733.73801429\n",
      "-3734.7789823\n",
      "-3737.61313262\n",
      "-3743.75123606\n",
      "-3751.44395426\n",
      "-3763.63758072\n",
      "-3795.13656962\n",
      "-3821.74578445\n",
      "-3845.76161606\n",
      "-3866.88298862\n",
      "-3881.96761294\n",
      "-3906.37811917\n",
      "-3954.88126813\n",
      "-3670.76222836\n",
      "-3987.56829942\n",
      "-4064.02339064\n",
      "-4240.42592022\n",
      "-4031.81906202\n",
      "-4347.60149089\n",
      "-4558.74259964\n",
      "-4815.60830664\n",
      "-4869.95751428\n",
      "-4928.88506814\n",
      "-4947.1347854\n",
      "-4955.46274129\n",
      "-4960.96688316\n",
      "-4963.53847882\n",
      "-4966.05574236\n",
      "-4966.44920185\n",
      "-4967.69862353\n",
      "-4968.14473341\n",
      "-4968.4409208\n",
      "-4968.7179071\n",
      "-4969.11211838\n",
      "-4969.91741926\n",
      "-4970.43751313\n",
      "-4971.58807451\n",
      "-4972.66378657\n",
      "-4973.78085876\n",
      "-4976.4120325\n",
      "-4979.56881406\n",
      "-4981.84049553\n",
      "-4985.39402348\n",
      "-4987.97669241\n",
      "-4990.43216552\n",
      "-4998.83072955\n",
      "-5005.84534273\n",
      "-5023.19515585\n",
      "-5021.84602924\n",
      "-5035.75422664\n",
      "-5058.4584796\n",
      "-5107.35128382\n",
      "-4981.69976858\n",
      "-5119.49728188\n",
      "-5147.49540697\n",
      "-5163.71926227\n",
      "-5168.14345087\n",
      "-5167.7769191\n",
      "-5168.83874205\n",
      "-5169.51744941\n",
      "-5170.17495675\n",
      "-5171.38186677\n",
      "-5172.56622386\n",
      "-5171.98602898\n",
      "-5172.89604137\n",
      "-5173.04723607\n",
      "-5173.1131547\n",
      "-5173.14228791\n",
      "-5173.17007054\n",
      "-5173.35144325\n",
      "-5173.59427476\n",
      "-5174.06945922\n",
      "-5173.04829352\n",
      "-5174.30222332\n",
      "-5174.74222611\n",
      "-5175.05993713\n",
      "-5175.33037086\n",
      "-5175.71884051\n",
      "-5174.8822644\n",
      "-5175.87509496\n",
      "-5176.25711625\n",
      "-5176.42152385\n",
      "-5176.51640466\n",
      "-5176.57237215\n",
      "-5176.63152133\n",
      "-5176.79554761\n",
      "-5176.83082044\n",
      "-5177.00258682\n",
      "-5177.04550908\n",
      "-5177.07178487\n",
      "-5177.08658709\n",
      "-5177.08886644\n",
      "-5177.10292274\n",
      "-5177.10686869\n",
      "-5177.12446497\n",
      "-5177.15009358\n",
      "-5177.20266935\n",
      "-5177.1468503\n",
      "-5177.2224253\n",
      "-5177.26462911\n",
      "-5177.24807858\n",
      "-5177.27259896\n",
      "-5177.28522941\n",
      "-5177.29380093\n",
      "-5177.32785851\n",
      "-5177.38820951\n",
      "-5177.40266539\n",
      "-5177.62929561\n",
      "-5177.86420229\n",
      "-5178.24115606\n",
      "-5178.65998445\n",
      "-5179.23011323\n",
      "-5177.95525217\n",
      "-5179.30062286\n",
      "-5179.42712886\n",
      "-5179.4933018\n",
      "-5179.54593988\n",
      "-5179.70756966\n",
      "-5179.87051956\n",
      "-5179.77434229\n",
      "-5179.91099399\n",
      "-5179.94714115\n",
      "-5179.96762482\n",
      "-5179.99924067\n",
      "-5180.0233659\n",
      "-5180.05292965\n",
      "-5180.06659753\n",
      "-5180.07755341\n",
      "-5180.08396334\n",
      "-5180.11591732\n",
      "-5180.1528826\n",
      "-5180.19496389\n",
      "-5180.3049979\n",
      "-5180.39575881\n",
      "-5180.52137657\n",
      "-5180.66269918\n",
      "-5180.60391993\n",
      "-5180.726096\n",
      "-5180.79898039\n",
      "-5180.78447041\n",
      "-5180.81140932\n",
      "-5180.82373981\n",
      "-5180.84629029\n",
      "-5180.86557515\n",
      "-5180.91284795\n",
      "-5180.88562655\n",
      "-5180.92794031\n",
      "-5180.947174\n",
      "-5180.95333219\n",
      "-5180.95484454\n",
      "-5180.95767638\n",
      "-5180.95955628\n",
      "-5180.96175852\n",
      "-5180.9643114\n",
      "-5180.96733409\n",
      "-5180.97091886\n",
      "-5180.97911203\n",
      "-5180.99111208\n",
      "-5180.9687406\n",
      "-5180.9955792\n",
      "-5181.00499328\n",
      "-5181.01036312\n",
      "-5181.01507035\n",
      "-5181.02188449\n",
      "-5181.03233044\n",
      "-5181.03915123\n",
      "-5181.0508089\n",
      "-5181.06156886\n",
      "-5181.08606183\n",
      "-5181.14619548\n",
      "-5181.12980645\n",
      "-5181.18085473\n",
      "-5181.23080722\n",
      "-5181.2687461\n",
      "-5181.30627498\n",
      "-5181.33935046\n",
      "-5181.35065974\n",
      "-5181.3231878\n",
      "-5181.35325715\n",
      "-5181.35441275\n",
      "-5181.35568524\n",
      "-5181.35651547\n",
      "-5181.35727473\n",
      "-5181.35839872\n",
      "-5181.36003437\n",
      "-5181.36122944\n",
      "-5181.36279734\n",
      "-5181.36383733\n",
      "-5181.36636414\n",
      "-5181.37076561\n",
      "-5181.378281\n",
      "-5181.38614765\n",
      "-5181.39850041\n",
      "-5181.41566732\n",
      "-5181.42396467\n",
      "-5181.44867784\n",
      "-5181.44805012\n",
      "-5181.45328782\n",
      "-5181.45368876\n",
      "-5181.45719953\n",
      "-5181.45884516\n",
      "-5181.46037651\n",
      "-5181.46243386\n",
      "-5181.46656548\n",
      "-5181.47048386\n",
      "-5181.45140052\n",
      "-5181.47158436\n",
      "-5181.47373357\n",
      "-5181.47609719\n",
      "-5181.47997192\n",
      "-5181.48504426\n",
      "-5181.48567703\n",
      "-5181.49288178\n",
      "-5181.49598529\n",
      "-5181.50007793\n",
      "-5181.50660921\n",
      "-5181.52241572\n",
      "-5181.54315047\n",
      "-5181.49172335\n",
      "-5181.55128245\n",
      "-5181.56192799\n",
      "-5181.56596262\n",
      "-5181.56772765\n",
      "-5181.57370823\n",
      "-5181.58096292\n",
      "-5181.58069002\n",
      "-5181.5844852\n",
      "-5181.58765834\n",
      "-5181.58956236\n",
      "-5181.59122708\n",
      "-5181.59293482\n",
      "-5181.59510623\n",
      "-5181.59530889\n",
      "-5181.59648353\n",
      "-5181.5987041\n",
      "-5181.60047891\n",
      "-5181.60299508\n",
      "-5181.60956471\n",
      "-5181.62011594\n",
      "-5181.61546571\n",
      "-5181.62753078\n",
      "-5181.63922128\n",
      "-5181.64716744\n",
      "-5181.64883963\n",
      "-5181.65109102\n",
      "-5181.653203\n",
      "-5181.65231354\n",
      "-5181.65380515\n",
      "-5181.65487299\n",
      "-5181.65527692\n",
      "-5181.65541763\n",
      "-5181.6559491\n",
      "-5181.65641468\n",
      "-5181.65570946\n",
      "-5181.65666897\n",
      "-5181.65704356\n",
      "-5181.65718429\n",
      "-5181.65738412\n",
      "-5181.65783959\n",
      "-5181.65811887\n",
      "-5181.65889629\n",
      "-5181.6593123\n",
      "-5181.66009887\n",
      "-5181.66045008\n",
      "-5181.6612886\n",
      "-5181.6626206\n",
      "-5181.66460381\n",
      "-5181.66697426\n",
      "-5181.67108063\n",
      "-5181.67406084\n",
      "-5181.67547706\n",
      "-5181.67610269\n",
      "-5181.67690067\n",
      "-5181.67794115\n",
      "-5181.67925581\n",
      "-5181.68134341\n",
      "-5181.67182029\n",
      "-5181.68196905\n",
      "-5181.68371844\n",
      "-5181.68464622\n",
      "-5181.68518164\n",
      "-5181.68608188\n",
      "-5181.68825241\n",
      "-5181.69047341\n",
      "-5181.69217535\n",
      "-5181.69345085\n",
      "-5181.69363618\n",
      "-5181.6942526\n",
      "-5181.69472412\n",
      "-5181.69532495\n",
      "-5181.69551558\n",
      "-5181.69559407\n",
      "-5181.69562791\n",
      "-5181.69569748\n",
      "-5181.69573036\n",
      "-5181.6958586\n",
      "-5181.69601478\n",
      "-5181.6948184\n",
      "-5181.69609512\n",
      "-5181.6963391\n",
      "-5181.69661104\n",
      "-5181.69686957\n",
      "-5181.69703253\n",
      "-5181.69685495\n",
      "-5181.69707575\n",
      "-5181.6971359\n",
      "-5181.69716957\n",
      "-5181.69720045\n",
      "-5181.69723368\n",
      "-5181.69723787\n"
     ]
    },
    {
     "name": "stderr",
     "output_type": "stream",
     "text": [
      "/Users/val/MEGAsync/GLM_PythonModules/notebooks/../code/PoissonProcessClasses.py:171: FutureWarning: comparison to `None` will result in an elementwise object comparison in the future.\n",
      "  if start_coef==None:\n",
      "/Users/val/anaconda/lib/python3.4/site-packages/scipy/optimize/_minimize.py:362: RuntimeWarning: Method L-BFGS-B does not use Hessian information (hess).\n",
      "  RuntimeWarning)\n",
      "/Users/val/MEGAsync/GLM_PythonModules/notebooks/../code/PoissonProcessClasses.py:173: OptimizeWarning: Unknown solver options: maxfev\n",
      "  res = optimize.minimize(self.negLogL,start_coef,jac = self.gradNegLogL,hess = self.hessNegLogL, args = y, options = opts, method = method)\n"
     ]
    }
   ],
   "source": [
    "res_list = []\n",
    "for i in range(len(y_list)):\n",
    "    model = PP.PPModel(M_list[i].T,dt = dt/100)\n",
    "    res_list.append(model.fit(y_list[i],start_coef = pars0,maxiter = 500, method = 'L-BFGS-B'))"
   ]
  },
  {
   "cell_type": "markdown",
   "metadata": {},
   "source": [
    "Specifying the true parameters:"
   ]
  },
  {
   "cell_type": "code",
   "execution_count": 27,
   "metadata": {
    "collapsed": true
   },
   "outputs": [],
   "source": [
    "k_coeff = np.array([0.061453, 0.284916, 0.860335, 1.256983, 0.910615, 0.488660, -0.887091, 0.097441, 0.026607, -0.090147])\n",
    "h_coeff = np.array([-15.18,38.24,-67.58,-14.06,-3.36])"
   ]
  },
  {
   "cell_type": "code",
   "execution_count": 22,
   "metadata": {
    "collapsed": false
   },
   "outputs": [
    {
     "name": "stdout",
     "output_type": "stream",
     "text": [
      "Estimated dc for neuron 0: 3.10101102304\n"
     ]
    },
    {
     "data": {
      "image/png": "[encoded data removed]",
      "text/plain": [
       "<matplotlib.figure.Figure at 0x1078e6390>"
      ]
     },
     "metadata": {},
     "output_type": "display_data"
    }
   ],
   "source": [
    "for i in range(len(res_list)):\n",
    "    k_coeff_predicted = res_list[i].x[:10]\n",
    "    h_coeff_predicted = res_list[i].x[10:15]\n",
    "    print('Estimated dc for neuron '+str(i)+': '+str(res_list[i].x[-1]))\n",
    "    fig,axs = plt.subplots(1,2,figsize = (10,5))\n",
    "    fig.suptitle('Neuron%d'%(i+1))\n",
    "    axs[0].plot(-kt_domain[::-1],np.dot(K,k_coeff_predicted),'r',label = 'predicted')\n",
    "    axs[0].set_title('Stimulus Filter')\n",
    "    axs[0].hold(True)\n",
    "    axs[0].plot(-kt_domain[::-1],np.dot(K,k_coeff),'b',label = 'true')\n",
    "    axs[0].plot(-kt_domain[::-1],np.dot(K,pars0[:10]),'g',label = 'initial')\n",
    "    axs[0].set_xlabel('Time')\n",
    "    axs[0].legend(loc = 'upper left')\n",
    "    axs[1].set_title('Post-Spike Filter')\n",
    "    axs[1].plot(ht_domain,np.dot(H_orth,h_coeff_predicted),'r',label = 'predicted')\n",
    "    axs[1].plot(ht_domain,np.dot(H_orth,h_coeff),'b',label = 'true')\n",
    "    axs[1].plot(ht_domain,np.dot(H_orth,coeff_h0[:H_orth.shape[1]]),'g',label = 'initial')\n",
    "    axs[1].set_title('Post-Spike Filter')\n",
    "    axs[1].set_xlabel('Time')\n",
    "    axs[1].legend(loc = 'upper right')"
   ]
  },
  {
   "cell_type": "markdown",
   "metadata": {
    "collapsed": true
   },
   "source": [
    "Extracting the weight matrix:"
   ]
  },
  {
   "cell_type": "code",
   "execution_count": 28,
   "metadata": {
    "collapsed": false
   },
   "outputs": [
    {
     "name": "stdout",
     "output_type": "stream",
     "text": [
      "[[ 0.         -0.03272112]\n",
      " [-0.08846552  0.        ]]\n"
     ]
    }
   ],
   "source": [
    "W = np.array([np.hstack((res_list[i].x[-(nofCells):-nofCells+i],0,res_list[i].x[-nofCells+i:-1])) for i in range(len(res_list))])\n",
    "print(W)"
   ]
  },
  {
   "cell_type": "markdown",
   "metadata": {
    "collapsed": true
   },
   "source": [
    "Note: the stimulus and the post-spike estimates can be different for different neurons."
   ]
  },
  {
   "cell_type": "markdown",
   "metadata": {
    "collapsed": false
   },
   "source": []
  },
  {
   "cell_type": "markdown",
   "metadata": {
    "collapsed": true
   },
   "source": []
  },
  {
   "cell_type": "code",
   "execution_count": null,
   "metadata": {
    "collapsed": true
   },
   "outputs": [],
   "source": []
  },
  {
   "cell_type": "code",
   "execution_count": null,
   "metadata": {
    "collapsed": false
   },
   "outputs": [],
   "source": []
  },
  {
   "cell_type": "code",
   "execution_count": null,
   "metadata": {
    "collapsed": true
   },
   "outputs": [],
   "source": []
  },
  {
   "cell_type": "code",
   "execution_count": null,
   "metadata": {
    "collapsed": true
   },
   "outputs": [],
   "source": []
  }
 ],
 "metadata": {
  "kernelspec": {
   "display_name": "Python 3",
   "language": "python",
   "name": "python3"
  },
  "language_info": {
   "codemirror_mode": {
    "name": "ipython",
    "version": 3
   },
   "file_extension": ".py",
   "mimetype": "text/x-python",
   "name": "python",
   "nbconvert_exporter": "python",
   "pygments_lexer": "ipython3",
   "version": "3.4.3"
  }
 },
 "nbformat": 4,
 "nbformat_minor": 0
}
