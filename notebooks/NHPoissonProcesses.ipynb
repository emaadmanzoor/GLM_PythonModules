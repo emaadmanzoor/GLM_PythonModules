{
 "cells": [
  {
   "cell_type": "code",
   "execution_count": 333,
   "metadata": {
    "collapsed": false
   },
   "outputs": [],
   "source": [
    "import numpy as np\n",
    "from scipy import linalg\n",
    "from scipy import optimize\n",
    "import matplotlib.pyplot as plt\n",
    "%matplotlib inline"
   ]
  },
  {
   "cell_type": "markdown",
   "metadata": {},
   "source": [
    "# Parameter Estimation in Poisson Processes"
   ]
  },
  {
   "cell_type": "markdown",
   "metadata": {},
   "source": [
    "Let $Y(t)$ be a non-homogeneous Poisson process on $[0,T]$ with a conditional intensity  $\\lambda(t)$, and cumulative intensity $\\Lambda(t) = \\int_0^t\\lambda(t)dt$. Then the number of events occuring before time $t$ follows a Poisson distribution and\n",
    "$$P(Y(t)=N) = e^{-\\Lambda(t) }\\Lambda(t)^N/N! $$"
   ]
  },
  {
   "cell_type": "markdown",
   "metadata": {},
   "source": [
    "The conditional intensity function can be written as a function of a set of covariates and parameters, for example:\n",
    "$$ \\lambda(t) = \\exp(X(t)\\beta)$$"
   ]
  },
  {
   "cell_type": "markdown",
   "metadata": {},
   "source": [
    "The exponential above can be substituted with a more general 'inverse-link' function:\n",
    "$$\\lambda_{\\beta}(t) = f(X(t)\\beta)$$"
   ]
  },
  {
   "cell_type": "markdown",
   "metadata": {
    "collapsed": true
   },
   "source": [
    "We can simulate from this process:"
   ]
  },
  {
   "cell_type": "code",
   "execution_count": 334,
   "metadata": {
    "collapsed": true
   },
   "outputs": [],
   "source": [
    "N = 10000# number of observations \n",
    "d = 5 # number of covariates"
   ]
  },
  {
   "cell_type": "markdown",
   "metadata": {
    "collapsed": true
   },
   "source": [
    "1) create a vector of $d$ parameters: "
   ]
  },
  {
   "cell_type": "code",
   "execution_count": 335,
   "metadata": {
    "collapsed": false
   },
   "outputs": [],
   "source": [
    "theta = np.random.normal(size = (d,))"
   ]
  },
  {
   "cell_type": "markdown",
   "metadata": {
    "collapsed": true
   },
   "source": [
    "2) Create an array of covariates:"
   ]
  },
  {
   "cell_type": "code",
   "execution_count": 336,
   "metadata": {
    "collapsed": false
   },
   "outputs": [],
   "source": [
    "X = 0.1*np.random.normal(size = (d,N))\n",
    "# X = linalg.orth(X.T).T\n",
    "# X = np.eye((d))\n"
   ]
  },
  {
   "cell_type": "markdown",
   "metadata": {},
   "source": [
    "3) Construct the conditional intensity $\\lambda(t)$"
   ]
  },
  {
   "cell_type": "code",
   "execution_count": 337,
   "metadata": {
    "collapsed": false
   },
   "outputs": [],
   "source": [
    "l = np.exp(np.dot(X.T,theta))"
   ]
  },
  {
   "cell_type": "code",
   "execution_count": 338,
   "metadata": {
    "collapsed": false
   },
   "outputs": [],
   "source": [
    "dt = 0.001 # discretization step"
   ]
  },
  {
   "cell_type": "markdown",
   "metadata": {},
   "source": [
    "Generate the random variables:"
   ]
  },
  {
   "cell_type": "code",
   "execution_count": 339,
   "metadata": {
    "collapsed": false
   },
   "outputs": [],
   "source": [
    "u = np.random.uniform(size = len(l))\n",
    "y = 1*(l*dt>u)"
   ]
  },
  {
   "cell_type": "code",
   "execution_count": 340,
   "metadata": {
    "collapsed": false
   },
   "outputs": [
    {
     "data": {
      "image/png": "[encoded data removed]",
      "text/plain": [
       "<matplotlib.figure.Figure at 0x109935978>"
      ]
     },
     "metadata": {},
     "output_type": "display_data"
    }
   ],
   "source": [
    "fig, ax = plt.subplots(figsize=(12, 2))\n",
    "fig = ax.matshow(np.reshape(y,(1,len(y))),cmap = 'Greys',aspect = 3)"
   ]
  },
  {
   "cell_type": "markdown",
   "metadata": {
    "collapsed": true
   },
   "source": [
    "Given events at times $t_1,...,t_N$ the conditional likelihood is\n",
    "$$P_{\\beta}(t_1,...,t_N) = e^{-\\Lambda(T)} \\prod_{i=1}^N\\lambda_{\\beta}(t_i)$$."
   ]
  },
  {
   "cell_type": "markdown",
   "metadata": {},
   "source": [
    "The Maximum Likelihood Estimate for $\\beta$ requires maximizing P with respect to $\\beta$, but usually it  is easier to minimize the log of this function."
   ]
  },
  {
   "cell_type": "markdown",
   "metadata": {},
   "source": [
    "The corresponding negative log-likelihood is\n",
    "$$ L(\\beta,t_1,...,t_N) = \\Lambda(T) -\\sum_{i=1}^N \\log(\\lambda_{\\beta}(t_i))$$"
   ]
  },
  {
   "cell_type": "markdown",
   "metadata": {},
   "source": [
    "Now let's discretize the domain of $[0,T]$ into n bins (small enough that there is only one spike per bin) $\\tau_1,...,\\tau_n$. And let $y_i = 1$ if there is a spike in the bin, and $y_i = 0$ otherwise. "
   ]
  },
  {
   "cell_type": "markdown",
   "metadata": {},
   "source": [
    "$$ L(\\beta,y) = \\sum_{i=1}^n \\lambda(\\tau_i)\\Delta \\tau - \\sum_{i=1}^n y_i \\log\\lambda(\\tau_i)$$"
   ]
  },
  {
   "cell_type": "code",
   "execution_count": 341,
   "metadata": {
    "collapsed": true
   },
   "outputs": [],
   "source": [
    "    def negLogL(theta,X,y,dt):\n",
    "        # calculate the intensity of the Poisson process\n",
    "        intensity = np.exp(np.dot(X.T,theta))\n",
    "        # bins with spikes vs no spikes\n",
    "        l = sum(intensity)*dt - sum(y*np.log(intensity))\n",
    "        return(l)"
   ]
  },
  {
   "cell_type": "markdown",
   "metadata": {},
   "source": [
    "\n",
    "The gradient is "
   ]
  },
  {
   "cell_type": "markdown",
   "metadata": {},
   "source": [
    "$$\\frac{dL}{d\\beta} = \\sum_{i=1}^n\\frac{d\\lambda(\\tau_i)}{d\\beta} \\Delta \\tau - \\sum_{i=1}^n \\frac{y_i}{\\lambda(\\tau_i)} \\frac{d\\lambda(\\tau_i)}{ d\\beta } $$"
   ]
  },
  {
   "cell_type": "markdown",
   "metadata": {},
   "source": [
    "For a general link function the gradient becomes"
   ]
  },
  {
   "cell_type": "markdown",
   "metadata": {},
   "source": [
    "$$ \\frac{dL}{d\\beta} = \\sum_{i=1}^n f'(X(\\tau_i)\\beta)X(\\tau_i)\\Delta \\tau - \\sum_{i=1}^n \\frac{y_i}{f(X(\\tau_i)\\beta)} f'(X(\\tau_i)\\beta) X(\\tau_i) $$"
   ]
  },
  {
   "cell_type": "code",
   "execution_count": 342,
   "metadata": {
    "collapsed": false
   },
   "outputs": [],
   "source": [
    "    def grad(theta,X,y,dt):\n",
    "        intensity = np.exp(np.dot(X.T,theta))\n",
    "        g = np.dot(X,intensity)*dt - np.dot(X,y) \n",
    "        return(g) "
   ]
  },
  {
   "cell_type": "markdown",
   "metadata": {},
   "source": [
    "Set an initial guess:"
   ]
  },
  {
   "cell_type": "code",
   "execution_count": 343,
   "metadata": {
    "collapsed": false
   },
   "outputs": [],
   "source": [
    "theta_0 = np.random.normal(size = (d,))"
   ]
  },
  {
   "cell_type": "markdown",
   "metadata": {},
   "source": [
    "Maximize the likelihood:"
   ]
  },
  {
   "cell_type": "code",
   "execution_count": 344,
   "metadata": {
    "collapsed": true
   },
   "outputs": [],
   "source": [
    "opts = {'disp':True,'maxiter': 1000}"
   ]
  },
  {
   "cell_type": "code",
   "execution_count": 345,
   "metadata": {
    "collapsed": false
   },
   "outputs": [
    {
     "name": "stdout",
     "output_type": "stream",
     "text": [
      "Optimization terminated successfully.\n",
      "         Current function value: 8.793364\n",
      "         Iterations: 15\n",
      "         Function evaluations: 16\n",
      "         Gradient evaluations: 16\n"
     ]
    }
   ],
   "source": [
    "theta_MLE = optimize.minimize(negLogL, theta_0,jac = grad, args = (X,y,dt),options = opts).x"
   ]
  },
  {
   "cell_type": "code",
   "execution_count": 346,
   "metadata": {
    "collapsed": false
   },
   "outputs": [
    {
     "name": "stdout",
     "output_type": "stream",
     "text": [
      "Error: 3.87380518036\n"
     ]
    }
   ],
   "source": [
    "print ('Error: ' + str(np.sqrt(sum((theta_MLE - theta)**2))))"
   ]
  },
  {
   "cell_type": "code",
   "execution_count": 347,
   "metadata": {
    "collapsed": false
   },
   "outputs": [
    {
     "name": "stdout",
     "output_type": "stream",
     "text": [
      "Optimization terminated successfully.\n",
      "         Current function value: 8.793364\n",
      "         Iterations: 14\n",
      "         Function evaluations: 105\n",
      "         Gradient evaluations: 15\n"
     ]
    }
   ],
   "source": [
    "theta_MLE = optimize.minimize(negLogL, theta_0, args = (X,y,dt),options = opts).x"
   ]
  },
  {
   "cell_type": "code",
   "execution_count": 348,
   "metadata": {
    "collapsed": false
   },
   "outputs": [
    {
     "name": "stdout",
     "output_type": "stream",
     "text": [
      "Error: 3.87386442791\n"
     ]
    }
   ],
   "source": [
    "print ('Error: ' + str(np.sqrt(sum((theta_MLE - theta)**2))))"
   ]
  },
  {
   "cell_type": "code",
   "execution_count": null,
   "metadata": {
    "collapsed": false
   },
   "outputs": [],
   "source": []
  },
  {
   "cell_type": "code",
   "execution_count": null,
   "metadata": {
    "collapsed": false,
    "scrolled": true
   },
   "outputs": [],
   "source": []
  },
  {
   "cell_type": "code",
   "execution_count": 349,
   "metadata": {
    "collapsed": false
   },
   "outputs": [
    {
     "data": {
      "text/plain": [
       "<matplotlib.legend.Legend at 0x10c1d7860>"
      ]
     },
     "execution_count": 349,
     "metadata": {},
     "output_type": "execute_result"
    },
    {
     "data": {
      "image/png": "[encoded data removed]",
      "text/plain": [
       "<matplotlib.figure.Figure at 0x10b8776d8>"
      ]
     },
     "metadata": {},
     "output_type": "display_data"
    }
   ],
   "source": [
    "plt.hold(False)\n",
    "plt1, = plt.plot(theta,'ro',label = 'theta true')\n",
    "plt.hold(True)\n",
    "plt2, = plt.plot(theta_MLE,'o',label = 'theta MLE')\n",
    "plt.legend(handles = [plt1,plt2])"
   ]
  },
  {
   "cell_type": "markdown",
   "metadata": {},
   "source": [
    "Calculate a prediction of the response."
   ]
  },
  {
   "cell_type": "code",
   "execution_count": 350,
   "metadata": {
    "collapsed": false
   },
   "outputs": [],
   "source": [
    "l_MLE = np.exp(np.dot(X.T,theta_MLE))\n",
    "u = np.random.uniform(size = len(l_MLE))\n",
    "y_predicted = 1*(l_MLE*dt>u)"
   ]
  },
  {
   "cell_type": "code",
   "execution_count": null,
   "metadata": {
    "collapsed": false
   },
   "outputs": [],
   "source": []
  },
  {
   "cell_type": "code",
   "execution_count": null,
   "metadata": {
    "collapsed": false
   },
   "outputs": [],
   "source": []
  },
  {
   "cell_type": "code",
   "execution_count": 351,
   "metadata": {
    "collapsed": false
   },
   "outputs": [
    {
     "data": {
      "image/png": "[encoded data removed]",
      "text/plain": [
       "<matplotlib.figure.Figure at 0x10bfa08d0>"
      ]
     },
     "metadata": {},
     "output_type": "display_data"
    },
    {
     "data": {
      "image/png": "[encoded data removed]",
      "text/plain": [
       "<matplotlib.figure.Figure at 0x10c263eb8>"
      ]
     },
     "metadata": {},
     "output_type": "display_data"
    }
   ],
   "source": [
    "fig, ax = plt.subplots(figsize=(12, 2))\n",
    "fig = ax.matshow(np.reshape(y,(1,len(y))),cmap = 'Greys',aspect = 3)\n",
    "fig, ax = plt.subplots(figsize=(12, 2))\n",
    "fig = ax.matshow(np.reshape(y_predicted,(1,len(y))),cmap = 'Greys',aspect = 3)"
   ]
  },
  {
   "cell_type": "code",
   "execution_count": 352,
   "metadata": {
    "collapsed": false
   },
   "outputs": [
    {
     "name": "stdout",
     "output_type": "stream",
     "text": [
      "1.0\n"
     ]
    }
   ],
   "source": [
    "mismatch_error = sum(np.abs(y-y_predicted))/sum(y+y_predicted)\n",
    "print(mismatch_error)"
   ]
  },
  {
   "cell_type": "code",
   "execution_count": 353,
   "metadata": {
    "collapsed": false
   },
   "outputs": [
    {
     "data": {
      "text/plain": [
       "<matplotlib.text.Text at 0x10c87c550>"
      ]
     },
     "execution_count": 353,
     "metadata": {},
     "output_type": "execute_result"
    },
    {
     "data": {
      "image/png": "[encoded data removed]",
      "text/plain": [
       "<matplotlib.figure.Figure at 0x10bf73c88>"
      ]
     },
     "metadata": {},
     "output_type": "display_data"
    }
   ],
   "source": [
    "fig = plt.figure(figsize = (12,2))\n",
    "fig = plt.plot(l)\n",
    "plt.title('True Intensity')"
   ]
  },
  {
   "cell_type": "code",
   "execution_count": 354,
   "metadata": {
    "collapsed": false
   },
   "outputs": [
    {
     "data": {
      "text/plain": [
       "<matplotlib.text.Text at 0x10c2322b0>"
      ]
     },
     "execution_count": 354,
     "metadata": {},
     "output_type": "execute_result"
    },
    {
     "data": {
      "image/png": "[encoded data removed]",
      "text/plain": [
       "<matplotlib.figure.Figure at 0x10c8d1828>"
      ]
     },
     "metadata": {},
     "output_type": "display_data"
    }
   ],
   "source": [
    "fig = plt.figure(figsize = (12,2))\n",
    "fig = plt.plot(l_MLE)\n",
    "plt.title('Estimated Intensity')"
   ]
  },
  {
   "cell_type": "code",
   "execution_count": null,
   "metadata": {
    "collapsed": true
   },
   "outputs": [],
   "source": []
  }
 ],
 "metadata": {
  "kernelspec": {
   "display_name": "Python 3",
   "language": "python",
   "name": "python3"
  },
  "language_info": {
   "codemirror_mode": {
    "name": "ipython",
    "version": 3
   },
   "file_extension": ".py",
   "mimetype": "text/x-python",
   "name": "python",
   "nbconvert_exporter": "python",
   "pygments_lexer": "ipython3",
   "version": "3.4.3"
  }
 },
 "nbformat": 4,
 "nbformat_minor": 0
}
