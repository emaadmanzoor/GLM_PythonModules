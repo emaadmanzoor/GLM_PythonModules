{
 "cells": [
  {
   "cell_type": "markdown",
   "metadata": {},
   "source": [
    "##Filters for Neural Encoding"
   ]
  },
  {
   "cell_type": "markdown",
   "metadata": {},
   "source": [
    "This notebook discusses the construction of filters for neural encoding via Generalized Linear Models. The basis for the filters consists of raised cosine functions which were introduced in Pillow, et.al., Nature, 2008."
   ]
  },
  {
   "cell_type": "markdown",
   "metadata": {},
   "source": [
    "Import scientific modules:"
   ]
  },
  {
   "cell_type": "code",
   "execution_count": 5,
   "metadata": {
    "collapsed": false
   },
   "outputs": [],
   "source": [
    "import numpy as np\n",
    "import scipy as sp\n",
    "from scipy import linalg\n",
    "import matplotlib.pyplot as plt"
   ]
  },
  {
   "cell_type": "code",
   "execution_count": 6,
   "metadata": {
    "collapsed": true
   },
   "outputs": [],
   "source": [
    "%matplotlib inline"
   ]
  },
  {
   "cell_type": "markdown",
   "metadata": {},
   "source": [
    "Import the filters module which contains functions for generating the bases."
   ]
  },
  {
   "cell_type": "code",
   "execution_count": 11,
   "metadata": {
    "collapsed": false
   },
   "outputs": [
    {
     "data": {
      "text/plain": [
       "<module 'filters.py' from '../code/filters.py'>"
      ]
     },
     "execution_count": 11,
     "metadata": {},
     "output_type": "execute_result"
    }
   ],
   "source": [
    "import imp\n",
    "imp.load_source('filters.py', '../code/filters.py')"
   ]
  },
  {
   "cell_type": "markdown",
   "metadata": {},
   "source": [
    "Create a stimulus filter:"
   ]
  },
  {
   "cell_type": "code",
   "execution_count": null,
   "metadata": {
    "collapsed": false
   },
   "outputs": [],
   "source": [
    "kpeaks = np.array([0,round(20/3.)])\n",
    "pars_k = {'neye':5,'n':5,'kpeaks':kpeaks,'b':3}\n",
    "K,K_orth,kt_domain = filters.createStimulusBasis(pars_k, nkt = 20)"
   ]
  },
  {
   "cell_type": "code",
   "execution_count": null,
   "metadata": {
    "collapsed": false,
    "scrolled": true
   },
   "outputs": [],
   "source": [
    "fig, axs = plt.subplots(1,2)\n",
    "fig.set_figwidth(12)\n",
    "fig1 = axs[0].plot(-kt_domain[::-1],K)\n",
    "fig2 = axs[1].plot(-kt_domain[::-1],K_orth)"
   ]
  },
  {
   "cell_type": "code",
   "execution_count": null,
   "metadata": {
    "collapsed": false
   },
   "outputs": [],
   "source": [
    "coeff_k = np.array([0.1703926,0.0782157,0.3387306,0.5680452,0.3835860,0.2163205,-0.1528571,0.0069939,-0.0528309,-0.0404678])"
   ]
  },
  {
   "cell_type": "code",
   "execution_count": null,
   "metadata": {
    "collapsed": false
   },
   "outputs": [],
   "source": [
    "fig, axs = plt.subplots(1,2)\n",
    "fig.set_figwidth(12)\n",
    "fig1 = axs[0].plot(-kt_domain[::-1],np.dot(K,coeff_k))\n",
    "fig2 = axs[1].plot(-kt_domain[::-1],np.exp(np.dot(K,coeff_k)))"
   ]
  },
  {
   "cell_type": "markdown",
   "metadata": {},
   "source": [
    "Create a post-spike filter:"
   ]
  },
  {
   "cell_type": "code",
   "execution_count": null,
   "metadata": {
    "collapsed": false
   },
   "outputs": [],
   "source": [
    "hpeaks = np.array([0.1,2])\n",
    "pars_h = {'n':5,'hpeaks':hpeaks,'b':.5}\n",
    "pars_h['absref']=0.1\n",
    "dt = 0.01\n",
    "H,H_orth,ht_domain = filters.createPostSpikeBasis(pars_h,dt)"
   ]
  },
  {
   "cell_type": "code",
   "execution_count": null,
   "metadata": {
    "collapsed": false
   },
   "outputs": [],
   "source": [
    "fig, axs = plt.subplots(1,2)\n",
    "fig.set_figwidth(12)\n",
    "fig1 = axs[0].plot(ht_domain,H)\n",
    "fig2 = axs[1].plot(ht_domain,H_orth)\n"
   ]
  },
  {
   "cell_type": "code",
   "execution_count": null,
   "metadata": {
    "collapsed": true
   },
   "outputs": [],
   "source": [
    "coeff_h = np.array([.6,.47,.25,0,0])"
   ]
  },
  {
   "cell_type": "code",
   "execution_count": null,
   "metadata": {
    "collapsed": false
   },
   "outputs": [],
   "source": [
    "fig, axs = plt.subplots(1,2)\n",
    "fig.set_figwidth(12)\n",
    "fig1 = axs[0].plot(ht_domain,np.dot(H,coeff_h))\n",
    "fig2 = axs[1].plot(ht_domain,np.exp(np.dot(H,coeff_h)))"
   ]
  }
 ],
 "metadata": {
  "kernelspec": {
   "display_name": "Python 3",
   "language": "python",
   "name": "python3"
  },
  "language_info": {
   "codemirror_mode": {
    "name": "ipython",
    "version": 3
   },
   "file_extension": ".py",
   "mimetype": "text/x-python",
   "name": "python",
   "nbconvert_exporter": "python",
   "pygments_lexer": "ipython3",
   "version": "3.4.3"
  }
 },
 "nbformat": 4,
 "nbformat_minor": 0
}
