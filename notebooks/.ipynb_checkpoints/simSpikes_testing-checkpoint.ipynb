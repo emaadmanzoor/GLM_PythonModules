{
 "cells": [
  {
   "cell_type": "markdown",
   "metadata": {},
   "source": [
    "## This notebook is testing the simulation of Spikes"
   ]
  },
  {
   "cell_type": "code",
   "execution_count": 1,
   "metadata": {
    "collapsed": true
   },
   "outputs": [],
   "source": [
    "import numpy as np\n",
    "import matplotlib.pyplot as plt\n",
    "import pandas as pd\n",
    "import random\n",
    "%matplotlib inline"
   ]
  },
  {
   "cell_type": "code",
   "execution_count": 2,
   "metadata": {
    "collapsed": true
   },
   "outputs": [],
   "source": [
    "import sys\n",
    "import os\n",
    "sys.path.append(os.path.join(os.getcwd(),\"..\"))\n",
    "sys.path.append(os.path.join(os.getcwd(),\"..\",\"code\"))\n",
    "data_path = os.path.join(os.getcwd(),\"..\",'data')\n",
    "sys.path.append(data_path)"
   ]
  },
  {
   "cell_type": "code",
   "execution_count": 3,
   "metadata": {
    "collapsed": false
   },
   "outputs": [],
   "source": [
    "import filters\n",
    "import likelihood_functions as lk\n",
    "import PoissonProcessClasses as PP\n",
    "import auxiliary_functions as auxfun"
   ]
  },
  {
   "cell_type": "code",
   "execution_count": 4,
   "metadata": {
    "collapsed": false
   },
   "outputs": [
    {
     "data": {
      "text/plain": [
       "<module 'PoissonProcessClasses' from '/Users/val/MEGAsync/GLM_PythonModules/notebooks/../code/PoissonProcessClasses.py'>"
      ]
     },
     "execution_count": 4,
     "metadata": {},
     "output_type": "execute_result"
    }
   ],
   "source": [
    "# Reloading modules which are in development\n",
    "import imp\n",
    "imp.reload(filters)\n",
    "imp.reload(auxfun)\n",
    "imp.reload(lk)\n",
    "imp.reload(PP)"
   ]
  },
  {
   "cell_type": "code",
   "execution_count": 5,
   "metadata": {
    "collapsed": false
   },
   "outputs": [],
   "source": [
    "# reading stimulus\n",
    "Stim = np.array(pd.read_csv(os.path.join(data_path,'Stim.csv'),header = None))\n",
    "# reading location of spikes\n",
    "tsp = np.hstack(np.array(pd.read_csv(os.path.join(data_path,'tsp.csv'),header = None)))"
   ]
  },
  {
   "cell_type": "code",
   "execution_count": 6,
   "metadata": {
    "collapsed": false
   },
   "outputs": [],
   "source": [
    "Stim = np.array(pd.read_csv('/Users/val/Desktop/code_GLM_v1_Feb2010/myCode/Stim.csv',header = None))\n",
    "tsp = np.array(pd.read_csv('/Users/val/Desktop/code_GLM_v1_Feb2010/myCode/Stim.csv',header = None))"
   ]
  },
  {
   "cell_type": "code",
   "execution_count": 7,
   "metadata": {
    "collapsed": false
   },
   "outputs": [],
   "source": [
    "dt = 0.01\n",
    "tsp_int = np.ceil((tsp - dt*0.001)/dt)\n",
    "tsp_int = np.reshape(tsp_int,(tsp_int.shape[0],1))\n",
    "tsp_int = tsp_int.astype(int)\n",
    "y = np.array([item in tsp_int for item in np.arange(Stim.shape[0]/dt)+1]).astype(int)"
   ]
  },
  {
   "cell_type": "code",
   "execution_count": 8,
   "metadata": {
    "collapsed": false
   },
   "outputs": [
    {
     "data": {
      "image/png": "[encoded data removed]",
      "text/plain": [
       "<matplotlib.figure.Figure at 0x10c0d0240>"
      ]
     },
     "metadata": {},
     "output_type": "display_data"
    }
   ],
   "source": [
    "fig, ax = plt.subplots(figsize=(16, 2))\n",
    "fig = ax.matshow(np.reshape(y[:1000],(1,len(y[:1000]))),cmap = 'Greys',aspect = 15)"
   ]
  },
  {
   "cell_type": "code",
   "execution_count": 9,
   "metadata": {
    "collapsed": false
   },
   "outputs": [],
   "source": [
    "# create a stimulus filter\n",
    "kpeaks = np.array([0,round(20/3)])\n",
    "pars_k = {'neye':5,'n':5,'kpeaks':kpeaks,'b':3}\n",
    "K,K_orth,kt_domain = filters.createStimulusBasis(pars_k, nkt = 20) "
   ]
  },
  {
   "cell_type": "code",
   "execution_count": 10,
   "metadata": {
    "collapsed": false
   },
   "outputs": [],
   "source": [
    "# create a post-spike filter\n",
    "hpeaks = np.array([0.1,2])\n",
    "pars_h = {'n':5,'hpeaks':hpeaks,'b':.4,'absref':0.}\n",
    "H,H_orth,ht_domain = filters.createPostSpikeBasis(pars_h,dt)"
   ]
  },
  {
   "cell_type": "code",
   "execution_count": 11,
   "metadata": {
    "collapsed": false,
    "scrolled": true
   },
   "outputs": [],
   "source": [
    "# Interpolate Post Spike Filter\n",
    "MSP = auxfun.makeInterpMatrix(len(ht_domain),1)\n",
    "MSP[0,0] = 0\n",
    "H_orth = np.dot(MSP,H_orth)"
   ]
  },
  {
   "cell_type": "code",
   "execution_count": null,
   "metadata": {
    "collapsed": false,
    "scrolled": true
   },
   "outputs": [],
   "source": []
  },
  {
   "cell_type": "code",
   "execution_count": 12,
   "metadata": {
    "collapsed": false
   },
   "outputs": [],
   "source": [
    "M_k = lk.construct_M_k(Stim,K,dt)"
   ]
  },
  {
   "cell_type": "code",
   "execution_count": 13,
   "metadata": {
    "collapsed": true
   },
   "outputs": [],
   "source": [
    "# M_h = lk.construct_M_h(tsp,H_orth,dt,Stim)"
   ]
  },
  {
   "cell_type": "code",
   "execution_count": null,
   "metadata": {
    "collapsed": false
   },
   "outputs": [],
   "source": []
  },
  {
   "cell_type": "markdown",
   "metadata": {},
   "source": [
    "Combining $M_k$, $M_h$ and $\\textbf{1}$ into one covariate matrix:"
   ]
  },
  {
   "cell_type": "code",
   "execution_count": 46,
   "metadata": {
    "collapsed": false
   },
   "outputs": [],
   "source": [
    "# M = np.hstack((M_k,M_h,np.ones((M_h.shape[0],1))))\n",
    "M = np.hstack((M_k,np.ones((M_k.shape[0],1))))"
   ]
  },
  {
   "cell_type": "code",
   "execution_count": 47,
   "metadata": {
    "collapsed": true
   },
   "outputs": [],
   "source": [
    "coeff_k0 = np.array([ 0.061453,0.284916,0.860335,1.256983,0.910615,0.488660,-0.887091,0.097441,0.026607,-0.090147])\n",
    "\n",
    "coeff_h0 = np.zeros((5,))\n",
    "coeff_h0 = np.array([-10, -5, 0, 2, -2])\n",
    "\n",
    "pars0 = np.hstack((coeff_k0,3,coeff_h0))\n",
    "\n",
    "# pars0 = np.hstack((coeff_k0,3))"
   ]
  },
  {
   "cell_type": "code",
   "execution_count": null,
   "metadata": {
    "collapsed": false
   },
   "outputs": [],
   "source": []
  },
  {
   "cell_type": "code",
   "execution_count": null,
   "metadata": {
    "collapsed": false
   },
   "outputs": [],
   "source": []
  },
  {
   "cell_type": "code",
   "execution_count": null,
   "metadata": {
    "collapsed": false
   },
   "outputs": [],
   "source": []
  },
  {
   "cell_type": "code",
   "execution_count": 48,
   "metadata": {
    "collapsed": false
   },
   "outputs": [],
   "source": [
    "random.seed(0)"
   ]
  },
  {
   "cell_type": "markdown",
   "metadata": {},
   "source": [
    "First check for M_k only."
   ]
  },
  {
   "cell_type": "code",
   "execution_count": 49,
   "metadata": {
    "collapsed": false
   },
   "outputs": [
    {
     "name": "stdout",
     "output_type": "stream",
     "text": [
      "spike891\n",
      "spike969\n",
      "spike1111\n",
      "spike1817\n",
      "spike1934\n",
      "spike2339\n",
      "spike3321\n",
      "spike3944\n",
      "spike4021\n",
      "spike4100\n",
      "spike4738\n",
      "spike4856\n",
      "spike4973\n",
      "spike5373\n",
      "spike5504\n",
      "spike5629\n",
      "spike6276\n",
      "spike7144\n",
      "spike7149\n",
      "spike7685\n",
      "spike7783\n",
      "spike8141\n",
      "spike8242\n",
      "spike8341\n",
      "spike8799\n",
      "spike8916\n",
      "spike9284\n",
      "spike9395\n",
      "spike9711\n",
      "spike10835\n",
      "spike11184\n",
      "spike11814\n",
      "spike11869\n",
      "spike11940\n",
      "spike12019\n",
      "spike12132\n",
      "spike13758\n",
      "spike14647\n",
      "spike14809\n",
      "spike14917\n",
      "spike15080\n",
      "spike15702\n",
      "spike15740\n",
      "spike15849\n",
      "spike15940\n",
      "spike16288\n",
      "spike16783\n",
      "spike16922\n",
      "spike17456\n",
      "spike18093\n",
      "spike18561\n",
      "spike18667\n",
      "spike18999\n",
      "spike19079\n",
      "spike20229\n",
      "spike20997\n",
      "spike21018\n",
      "spike21105\n",
      "spike21469\n",
      "spike22119\n",
      "spike22291\n",
      "spike22778\n",
      "spike23429\n",
      "spike23432\n",
      "spike23513\n",
      "spike24153\n",
      "spike24264\n",
      "spike24352\n",
      "spike24980\n",
      "spike25356\n",
      "spike25438\n",
      "spike25519\n",
      "spike25926\n",
      "spike27122\n",
      "spike27326\n",
      "spike27442\n",
      "spike28635\n",
      "spike28742\n",
      "spike29219\n",
      "spike29327\n",
      "spike29755\n",
      "spike29843\n",
      "spike30519\n",
      "spike30838\n",
      "spike30932\n",
      "spike31620\n",
      "spike31629\n",
      "spike31743\n",
      "spike33301\n",
      "spike33462\n",
      "spike34197\n",
      "spike34268\n",
      "spike34716\n",
      "spike35391\n",
      "spike35496\n",
      "spike35604\n",
      "spike36274\n",
      "spike36471\n",
      "spike36571\n",
      "spike36898\n",
      "spike36981\n",
      "spike38396\n",
      "spike38638\n",
      "spike38819\n",
      "spike39224\n",
      "spike39299\n",
      "spike39938\n",
      "spike40266\n",
      "spike40345\n",
      "spike40466\n",
      "spike40897\n",
      "spike40989\n",
      "spike41384\n",
      "spike41471\n",
      "spike41883\n",
      "spike41998\n",
      "spike42643\n",
      "spike42879\n",
      "spike42949\n",
      "spike43652\n",
      "spike43809\n",
      "spike43913\n",
      "spike44027\n",
      "spike45011\n",
      "spike45037\n",
      "spike45128\n",
      "spike45753\n",
      "spike46018\n",
      "spike46165\n",
      "spike46645\n",
      "spike46931\n",
      "spike47238\n",
      "spike47367\n",
      "spike47493\n",
      "spike47924\n",
      "spike48010\n",
      "spike48101\n",
      "spike48199\n",
      "spike48709\n",
      "spike48818\n",
      "spike49307\n",
      "spike49409\n",
      "spike49480\n",
      "spike51118\n",
      "spike51246\n",
      "spike51869\n",
      "spike51920\n",
      "spike52009\n",
      "spike52621\n",
      "spike52795\n",
      "spike53432\n",
      "spike53839\n",
      "spike53935\n",
      "spike53997\n",
      "spike54095\n",
      "spike54587\n",
      "spike54674\n",
      "spike54783\n",
      "spike55139\n",
      "spike55227\n",
      "spike55828\n",
      "spike55989\n",
      "spike56601\n",
      "spike56771\n",
      "spike56883\n",
      "spike57300\n",
      "spike57389\n",
      "spike57760\n",
      "spike58148\n",
      "spike58569\n",
      "spike58639\n",
      "spike59097\n",
      "spike59195\n",
      "spike59280\n",
      "spike59769\n",
      "spike60386\n",
      "spike60423\n",
      "spike61038\n",
      "spike61066\n",
      "spike61686\n",
      "spike61857\n",
      "spike62492\n",
      "spike63238\n",
      "spike63686\n",
      "spike63784\n",
      "spike64102\n",
      "spike64215\n",
      "spike64267\n",
      "spike64853\n",
      "spike65493\n",
      "spike65539\n",
      "spike65678\n",
      "spike66075\n",
      "spike66198\n",
      "spike66839\n",
      "spike66973\n",
      "spike68105\n",
      "spike68345\n",
      "spike68959\n",
      "spike69336\n",
      "spike69401\n",
      "spike69470\n",
      "spike69543\n",
      "spike69646\n",
      "spike70079\n",
      "spike70502\n",
      "spike71132\n",
      "spike71526\n",
      "spike71642\n",
      "spike71745\n",
      "spike72360\n",
      "spike72376\n",
      "spike73532\n",
      "spike73908\n",
      "spike74550\n",
      "spike75652\n",
      "spike76035\n",
      "spike76135\n",
      "spike76232\n",
      "spike76633\n",
      "spike76739\n",
      "spike77870\n",
      "spike77923\n",
      "spike78029\n",
      "spike78169\n",
      "spike78669\n",
      "spike78722\n",
      "spike79328\n",
      "spike79537\n",
      "spike79615\n",
      "spike79688\n",
      "spike80330\n",
      "spike80401\n",
      "spike81539\n",
      "spike81583\n",
      "spike81681\n",
      "spike82676\n",
      "spike83074\n",
      "spike83163\n",
      "spike83265\n",
      "spike84215\n",
      "spike84249\n",
      "spike84398\n",
      "spike84500\n",
      "spike84652\n",
      "spike85070\n",
      "spike85152\n",
      "spike85262\n",
      "spike85615\n",
      "spike85734\n",
      "spike86369\n",
      "spike86433\n",
      "spike87560\n",
      "spike87623\n",
      "spike87712\n",
      "spike87807\n",
      "spike87884\n",
      "spike88268\n",
      "spike88919\n",
      "spike89017\n",
      "spike89111\n",
      "spike89601\n",
      "spike89714\n",
      "spike90122\n",
      "spike90206\n",
      "spike90787\n",
      "spike90959\n",
      "spike91547\n",
      "spike91908\n",
      "spike92015\n",
      "spike92180\n",
      "spike92606\n",
      "spike93203\n",
      "spike93269\n",
      "spike93351\n",
      "spike94482\n",
      "spike94548\n",
      "spike94653\n",
      "spike94800\n",
      "spike94946\n",
      "spike96133\n",
      "spike96189\n",
      "spike96273\n",
      "spike96335\n",
      "spike96916\n",
      "spike96999\n",
      "spike97077\n",
      "spike97717\n",
      "spike97783\n",
      "spike97913\n",
      "spike99038\n",
      "spike99162\n",
      "spike99243\n",
      "spike100349\n",
      "spike100719\n",
      "spike100794\n",
      "spike101889\n",
      "spike102094\n",
      "spike102190\n",
      "spike102793\n",
      "spike102819\n",
      "spike103426\n",
      "spike103867\n",
      "spike103950\n",
      "spike105051\n",
      "spike105525\n",
      "spike105667\n",
      "spike105912\n",
      "spike106232\n",
      "spike106347\n",
      "spike106455\n",
      "spike107119\n",
      "spike107414\n",
      "spike107511\n",
      "spike108139\n",
      "spike108177\n",
      "spike108308\n",
      "spike108443\n",
      "spike108548\n",
      "spike108671\n",
      "spike109175\n",
      "spike109771\n",
      "spike110877\n",
      "spike111044\n",
      "spike111141\n",
      "spike111208\n",
      "spike111304\n",
      "spike112585\n",
      "spike113174\n",
      "spike113202\n",
      "spike113625\n",
      "spike113702\n",
      "spike113796\n",
      "spike114123\n",
      "spike116250\n",
      "spike116273\n",
      "spike116381\n",
      "spike116475\n",
      "spike116564\n",
      "spike117174\n",
      "spike117421\n",
      "spike118565\n",
      "spike118809\n",
      "spike118983\n",
      "spike119078\n",
      "spike120014\n",
      "spike120573\n",
      "spike120996\n",
      "spike121612\n",
      "spike121965\n",
      "spike122051\n",
      "spike122658\n",
      "spike122919\n",
      "spike123013\n",
      "spike123094\n",
      "spike123540\n",
      "spike123624\n",
      "spike124006\n",
      "spike124630\n",
      "spike124648\n",
      "spike124741\n",
      "spike124813\n",
      "spike125200\n",
      "spike125285\n",
      "spike125800\n",
      "spike125934\n",
      "spike126048\n",
      "spike126776\n",
      "spike127137\n",
      "spike127231\n",
      "spike127669\n",
      "spike128132\n",
      "spike128198\n",
      "spike128280\n",
      "spike128580\n",
      "spike129188\n",
      "spike129591\n",
      "spike129670\n",
      "spike129736\n",
      "spike130838\n",
      "spike131060\n",
      "spike131524\n",
      "spike132133\n",
      "spike132603\n",
      "spike133300\n",
      "spike133375\n",
      "spike134514\n",
      "spike134651\n",
      "spike134741\n",
      "spike135379\n",
      "spike135441\n",
      "spike135550\n",
      "spike136170\n",
      "spike136406\n",
      "spike137543\n",
      "spike137840\n",
      "spike137971\n",
      "spike138120\n",
      "spike138219\n",
      "spike139365\n",
      "spike139651\n",
      "spike139742\n",
      "spike139828\n",
      "spike140393\n",
      "spike140474\n",
      "spike140587\n",
      "spike140687\n",
      "spike141308\n",
      "spike141364\n",
      "spike142366\n",
      "spike142378\n",
      "spike142482\n",
      "spike142659\n",
      "spike142769\n",
      "spike143100\n",
      "spike143199\n",
      "spike143581\n",
      "spike143715\n",
      "spike144101\n",
      "spike144201\n",
      "spike144548\n",
      "spike145176\n",
      "spike145725\n",
      "spike145978\n",
      "spike146078\n",
      "spike147711\n",
      "spike147728\n",
      "spike147803\n",
      "spike147881\n",
      "spike148375\n",
      "spike148453\n",
      "spike148563\n",
      "spike148709\n",
      "spike149827\n",
      "spike150185\n",
      "spike150288\n",
      "spike150883\n",
      "spike150888\n",
      "spike151533\n",
      "spike151601\n",
      "spike151769\n",
      "spike152999\n",
      "spike153339\n",
      "spike153442\n",
      "spike154309\n",
      "spike154475\n",
      "spike155179\n",
      "spike155721\n",
      "spike156525\n",
      "spike156539\n",
      "spike156630\n",
      "spike157222\n",
      "spike157405\n",
      "spike157489\n",
      "spike158099\n",
      "spike158260\n",
      "spike158726\n",
      "spike158818\n",
      "spike159943\n",
      "spike160085\n",
      "spike160162\n",
      "spike160776\n",
      "spike161363\n",
      "spike161557\n",
      "spike162165\n",
      "spike162173\n",
      "spike162248\n",
      "spike162837\n",
      "spike163187\n",
      "spike163824\n",
      "spike164320\n",
      "spike164944\n",
      "spike165036\n",
      "spike165123\n",
      "spike165200\n",
      "spike165824\n",
      "spike166115\n",
      "spike167272\n",
      "spike167342\n",
      "spike167429\n",
      "spike167504\n",
      "spike168114\n",
      "spike168152\n",
      "spike168254\n",
      "spike169926\n",
      "spike171117\n",
      "spike171352\n",
      "spike171446\n",
      "spike171552\n",
      "spike172531\n",
      "spike172766\n",
      "spike172840\n",
      "spike173469\n",
      "spike173544\n",
      "spike174671\n",
      "spike174773\n",
      "spike174863\n",
      "spike174949\n",
      "spike175050\n",
      "spike175424\n",
      "spike175508\n",
      "spike175565\n",
      "spike175643\n",
      "spike175720\n",
      "spike176185\n",
      "spike176271\n",
      "spike177381\n",
      "spike177487\n",
      "spike177562\n",
      "spike178166\n",
      "spike178997\n",
      "spike179035\n",
      "spike179104\n",
      "spike179154\n",
      "spike179238\n",
      "spike179562\n",
      "spike180243\n",
      "spike180244\n",
      "spike180317\n",
      "spike180381\n",
      "spike182031\n",
      "spike182340\n",
      "spike182970\n",
      "spike183322\n",
      "spike183395\n",
      "spike183467\n",
      "spike185129\n",
      "spike185360\n",
      "spike185455\n",
      "spike185559\n",
      "spike186009\n",
      "spike186137\n",
      "spike186736\n",
      "spike187133\n",
      "spike187438\n",
      "spike187536\n",
      "spike187629\n",
      "spike188293\n",
      "spike188424\n",
      "spike189564\n",
      "spike189607\n",
      "spike190018\n",
      "spike190221\n",
      "spike190302\n",
      "spike190375\n",
      "spike190436\n",
      "spike190517\n",
      "spike191000\n",
      "spike191096\n",
      "spike191713\n",
      "spike191778\n",
      "spike191900\n",
      "spike192275\n",
      "spike192368\n",
      "spike192438\n",
      "spike193064\n",
      "spike193101\n",
      "spike193230\n",
      "spike193331\n",
      "spike193766\n",
      "spike194411\n",
      "spike194791\n",
      "spike194867\n",
      "spike195455\n",
      "spike195534\n",
      "spike195638\n",
      "spike196532\n",
      "spike196773\n",
      "spike196892\n",
      "spike197402\n",
      "spike197499\n",
      "spike198132\n",
      "spike198350\n",
      "spike198461\n",
      "spike199193\n",
      "spike199809\n",
      "spike199866\n",
      "spike200886\n",
      "spike200918\n",
      "spike201002\n",
      "spike202140\n",
      "spike202251\n",
      "spike202389\n",
      "spike202716\n",
      "spike203299\n",
      "spike203326\n",
      "spike203440\n",
      "spike204560\n",
      "spike204871\n",
      "spike205578\n",
      "spike205840\n",
      "spike205934\n",
      "spike206018\n",
      "spike206357\n",
      "spike207488\n",
      "spike207652\n",
      "spike207756\n",
      "spike208365\n",
      "spike208548\n",
      "spike209686\n",
      "spike209754\n",
      "spike209823\n",
      "spike209919\n",
      "spike210019\n",
      "spike211057\n",
      "spike211259\n",
      "spike211343\n",
      "spike211420\n",
      "spike211507\n",
      "spike211900\n",
      "spike211977\n",
      "spike213099\n",
      "spike213965\n",
      "spike214282\n",
      "spike214879\n",
      "spike215022\n",
      "spike215367\n",
      "spike215449\n",
      "spike215541\n",
      "spike216018\n",
      "spike216494\n",
      "spike216613\n",
      "spike216994\n",
      "spike217067\n",
      "spike217661\n",
      "spike218319\n",
      "spike218615\n",
      "spike218715\n",
      "spike219355\n",
      "spike219597\n",
      "spike219686\n",
      "spike220308\n",
      "spike220483\n",
      "spike220570\n",
      "spike221712\n",
      "spike221955\n",
      "spike222038\n",
      "spike222516\n",
      "spike222599\n",
      "spike222684\n",
      "spike223288\n",
      "spike223728\n",
      "spike224370\n",
      "spike224391\n",
      "spike225033\n",
      "spike225061\n",
      "spike225163\n",
      "spike225793\n",
      "spike226242\n",
      "spike226335\n",
      "spike226849\n",
      "spike227182\n",
      "spike227253\n",
      "spike227344\n",
      "spike227948\n",
      "spike228336\n",
      "spike228441\n",
      "spike228502\n",
      "spike228913\n",
      "spike229009\n",
      "spike229435\n",
      "spike229754\n",
      "spike230055\n",
      "spike230177\n",
      "spike230241\n",
      "spike230849\n",
      "spike230871\n",
      "spike231000\n",
      "spike231425\n",
      "spike231521\n",
      "spike231968\n",
      "spike232571\n",
      "spike233072\n",
      "spike233442\n",
      "spike233531\n",
      "spike234049\n",
      "spike234698\n",
      "spike234746\n",
      "spike235494\n",
      "spike235878\n",
      "spike235966\n",
      "spike236588\n",
      "spike236898\n",
      "spike236985\n",
      "spike237582\n",
      "spike237849\n",
      "spike237928\n",
      "spike238539\n",
      "spike238685\n",
      "spike239052\n",
      "spike239141\n",
      "spike239762\n",
      "spike239887\n",
      "spike240372\n",
      "spike240739\n",
      "spike240816\n",
      "spike241305\n",
      "spike241405\n",
      "spike241757\n",
      "spike241863\n",
      "spike241967\n",
      "spike242337\n",
      "spike242415\n",
      "spike242530\n",
      "spike243490\n",
      "spike243876\n",
      "spike244520\n",
      "spike245650\n",
      "spike245821\n",
      "spike245902\n",
      "spike245978\n",
      "spike246095\n",
      "spike246568\n",
      "spike247838\n",
      "spike248383\n",
      "spike248575\n",
      "spike248664\n",
      "spike249266\n",
      "spike249466\n",
      "spike249596\n"
     ]
    }
   ],
   "source": [
    "tsp_sim = auxfun.simSpikes(pars0,M,H,ht_domain,dt = 0.01)"
   ]
  },
  {
   "cell_type": "code",
   "execution_count": null,
   "metadata": {
    "collapsed": true
   },
   "outputs": [],
   "source": []
  },
  {
   "cell_type": "code",
   "execution_count": null,
   "metadata": {
    "collapsed": false
   },
   "outputs": [],
   "source": []
  },
  {
   "cell_type": "code",
   "execution_count": null,
   "metadata": {
    "collapsed": false
   },
   "outputs": [],
   "source": []
  },
  {
   "cell_type": "code",
   "execution_count": 51,
   "metadata": {
    "collapsed": false
   },
   "outputs": [],
   "source": [
    "# create the list of coefficients for each neuron\n",
    "\n",
    "coeff_list = [np.hstack((coeff_k0,3,coeff_h0,coeff_h0,coeff_h0)),np.hstack((coeff_k0,3,coeff_h0,coeff_h0,coeff_h0)),np.hstack((coeff_k0,3,coeff_h0,coeff_h0,coeff_h0))]"
   ]
  },
  {
   "cell_type": "code",
   "execution_count": 52,
   "metadata": {
    "collapsed": false
   },
   "outputs": [
    {
     "name": "stdout",
     "output_type": "stream",
     "text": [
      "[array([  0.061453,   0.284916,   0.860335,   1.256983,   0.910615,\n",
      "         0.48866 ,  -0.887091,   0.097441,   0.026607,  -0.090147,\n",
      "         3.      , -10.      ,  -5.      ,   0.      ,   2.      ,  -2.      ]), array([  0.061453,   0.284916,   0.860335,   1.256983,   0.910615,\n",
      "         0.48866 ,  -0.887091,   0.097441,   0.026607,  -0.090147,\n",
      "         3.      , -10.      ,  -5.      ,   0.      ,   2.      ,  -2.      ])]\n"
     ]
    },
    {
     "data": {
      "text/plain": [
       "array([  0.061453,   0.284916,   0.860335,   1.256983,   0.910615,\n",
       "         0.48866 ,  -0.887091,   0.097441,   0.026607,  -0.090147,\n",
       "         3.      , -10.      ,  -5.      ,   0.      ,   2.      ,  -2.      ])"
      ]
     },
     "execution_count": 52,
     "metadata": {},
     "output_type": "execute_result"
    }
   ],
   "source": [
    "coeff_list = [np.hstack((coeff_k0,3,coeff_h0))]\n",
    "print(coeff_list)\n",
    "coeff_list[0]\n"
   ]
  },
  {
   "cell_type": "code",
   "execution_count": 53,
   "metadata": {
    "collapsed": true
   },
   "outputs": [],
   "source": [
    "random.seed(0)"
   ]
  },
  {
   "cell_type": "code",
   "execution_count": 54,
   "metadata": {
    "collapsed": false
   },
   "outputs": [
    {
     "ename": "ValueError",
     "evalue": "total size of new array must be unchanged",
     "output_type": "error",
     "traceback": [
      "\u001b[0;31m---------------------------------------------------------------------------\u001b[0m",
      "\u001b[0;31mValueError\u001b[0m                                Traceback (most recent call last)",
      "\u001b[0;32m<ipython-input-54-c5e4cb9aa681>\u001b[0m in \u001b[0;36m<module>\u001b[0;34m()\u001b[0m\n\u001b[0;32m----> 1\u001b[0;31m \u001b[0mtsp_sim\u001b[0m \u001b[0;34m=\u001b[0m \u001b[0mauxfun\u001b[0m\u001b[0;34m.\u001b[0m\u001b[0msimSpikesMultiple\u001b[0m\u001b[0;34m(\u001b[0m\u001b[0mcoeff_list\u001b[0m\u001b[0;34m,\u001b[0m\u001b[0mM\u001b[0m\u001b[0;34m,\u001b[0m\u001b[0mH\u001b[0m\u001b[0;34m,\u001b[0m\u001b[0mht_domain\u001b[0m\u001b[0;34m,\u001b[0m\u001b[0mdt\u001b[0m \u001b[0;34m=\u001b[0m \u001b[0;36m0.01\u001b[0m\u001b[0;34m)\u001b[0m\u001b[0;34m\u001b[0m\u001b[0m\n\u001b[0m",
      "\u001b[0;32m/Users/val/MEGAsync/GLM_PythonModules/notebooks/../code/auxiliary_functions.py\u001b[0m in \u001b[0;36msimSpikesMultiple\u001b[0;34m(coeff_list, M_k, H, ht_domain, dt)\u001b[0m\n\u001b[1;32m    346\u001b[0m             \u001b[0mih_interpolated\u001b[0m \u001b[0;34m=\u001b[0m \u001b[0mnp\u001b[0m\u001b[0;34m.\u001b[0m\u001b[0mzeros\u001b[0m\u001b[0;34m(\u001b[0m\u001b[0;34m(\u001b[0m\u001b[0mlen\u001b[0m\u001b[0;34m(\u001b[0m\u001b[0mnp\u001b[0m\u001b[0;34m.\u001b[0m\u001b[0marange\u001b[0m\u001b[0;34m(\u001b[0m\u001b[0mdt\u001b[0m\u001b[0;34m,\u001b[0m\u001b[0mht_domain\u001b[0m\u001b[0;34m[\u001b[0m\u001b[0;34m-\u001b[0m\u001b[0;36m1\u001b[0m\u001b[0;34m]\u001b[0m\u001b[0;34m,\u001b[0m\u001b[0mdt\u001b[0m\u001b[0;34m)\u001b[0m\u001b[0;34m)\u001b[0m\u001b[0;34m,\u001b[0m\u001b[0mnofNeurons\u001b[0m\u001b[0;34m)\u001b[0m\u001b[0;34m)\u001b[0m\u001b[0;34m\u001b[0m\u001b[0m\n\u001b[1;32m    347\u001b[0m             \u001b[0;32mfor\u001b[0m \u001b[0mj\u001b[0m \u001b[0;32min\u001b[0m \u001b[0mrange\u001b[0m\u001b[0;34m(\u001b[0m\u001b[0mnofNeurons\u001b[0m\u001b[0;34m)\u001b[0m\u001b[0;34m:\u001b[0m\u001b[0;34m\u001b[0m\u001b[0m\n\u001b[0;32m--> 348\u001b[0;31m                 \u001b[0mih_interpolated\u001b[0m\u001b[0;34m[\u001b[0m\u001b[0;34m:\u001b[0m\u001b[0;34m,\u001b[0m\u001b[0mj\u001b[0m\u001b[0;34m]\u001b[0m \u001b[0;34m=\u001b[0m \u001b[0mnp\u001b[0m\u001b[0;34m.\u001b[0m\u001b[0minterp\u001b[0m\u001b[0;34m(\u001b[0m\u001b[0mnp\u001b[0m\u001b[0;34m.\u001b[0m\u001b[0marange\u001b[0m\u001b[0;34m(\u001b[0m\u001b[0mdt\u001b[0m\u001b[0;34m,\u001b[0m\u001b[0mht_domain\u001b[0m\u001b[0;34m[\u001b[0m\u001b[0;34m-\u001b[0m\u001b[0;36m1\u001b[0m\u001b[0;34m]\u001b[0m\u001b[0;34m,\u001b[0m\u001b[0mdt\u001b[0m\u001b[0;34m)\u001b[0m\u001b[0;34m,\u001b[0m\u001b[0mht_domain\u001b[0m\u001b[0;34m,\u001b[0m\u001b[0mnp\u001b[0m\u001b[0;34m.\u001b[0m\u001b[0mdot\u001b[0m\u001b[0;34m(\u001b[0m\u001b[0mH\u001b[0m\u001b[0;34m,\u001b[0m\u001b[0mnp\u001b[0m\u001b[0;34m.\u001b[0m\u001b[0mreshape\u001b[0m\u001b[0;34m(\u001b[0m\u001b[0mcoeff_h\u001b[0m\u001b[0;34m,\u001b[0m\u001b[0;34m(\u001b[0m\u001b[0mH\u001b[0m\u001b[0;34m.\u001b[0m\u001b[0mshape\u001b[0m\u001b[0;34m[\u001b[0m\u001b[0;36m1\u001b[0m\u001b[0;34m]\u001b[0m\u001b[0;34m,\u001b[0m\u001b[0mnofNeurons\u001b[0m\u001b[0;34m)\u001b[0m\u001b[0;34m,\u001b[0m\u001b[0morder\u001b[0m \u001b[0;34m=\u001b[0m \u001b[0;34m'F'\u001b[0m\u001b[0;34m)\u001b[0m\u001b[0;34m)\u001b[0m\u001b[0;34m[\u001b[0m\u001b[0;34m:\u001b[0m\u001b[0;34m,\u001b[0m\u001b[0mj\u001b[0m\u001b[0;34m]\u001b[0m\u001b[0;34m)\u001b[0m\u001b[0;34m\u001b[0m\u001b[0m\n\u001b[0m\u001b[1;32m    349\u001b[0m             \u001b[0mih\u001b[0m\u001b[0;34m.\u001b[0m\u001b[0mappend\u001b[0m\u001b[0;34m(\u001b[0m\u001b[0mih_interpolated\u001b[0m\u001b[0;34m)\u001b[0m\u001b[0;34m\u001b[0m\u001b[0m\n\u001b[1;32m    350\u001b[0m                 \u001b[0;31m# hlen = len(ih)\u001b[0m\u001b[0;34m\u001b[0m\u001b[0;34m\u001b[0m\u001b[0m\n",
      "\u001b[0;32m/Users/val/anaconda/lib/python3.4/site-packages/numpy/core/fromnumeric.py\u001b[0m in \u001b[0;36mreshape\u001b[0;34m(a, newshape, order)\u001b[0m\n\u001b[1;32m    219\u001b[0m     \u001b[0;32mexcept\u001b[0m \u001b[0mAttributeError\u001b[0m\u001b[0;34m:\u001b[0m\u001b[0;34m\u001b[0m\u001b[0m\n\u001b[1;32m    220\u001b[0m         \u001b[0;32mreturn\u001b[0m \u001b[0m_wrapit\u001b[0m\u001b[0;34m(\u001b[0m\u001b[0ma\u001b[0m\u001b[0;34m,\u001b[0m \u001b[0;34m'reshape'\u001b[0m\u001b[0;34m,\u001b[0m \u001b[0mnewshape\u001b[0m\u001b[0;34m,\u001b[0m \u001b[0morder\u001b[0m\u001b[0;34m=\u001b[0m\u001b[0morder\u001b[0m\u001b[0;34m)\u001b[0m\u001b[0;34m\u001b[0m\u001b[0m\n\u001b[0;32m--> 221\u001b[0;31m     \u001b[0;32mreturn\u001b[0m \u001b[0mreshape\u001b[0m\u001b[0;34m(\u001b[0m\u001b[0mnewshape\u001b[0m\u001b[0;34m,\u001b[0m \u001b[0morder\u001b[0m\u001b[0;34m=\u001b[0m\u001b[0morder\u001b[0m\u001b[0;34m)\u001b[0m\u001b[0;34m\u001b[0m\u001b[0m\n\u001b[0m\u001b[1;32m    222\u001b[0m \u001b[0;34m\u001b[0m\u001b[0m\n\u001b[1;32m    223\u001b[0m \u001b[0;34m\u001b[0m\u001b[0m\n",
      "\u001b[0;31mValueError\u001b[0m: total size of new array must be unchanged"
     ]
    }
   ],
   "source": [
    "tsp_sim = auxfun.simSpikesMultiple(coeff_list,M,H,ht_domain,dt = 0.01)"
   ]
  },
  {
   "cell_type": "code",
   "execution_count": null,
   "metadata": {
    "collapsed": false
   },
   "outputs": [],
   "source": []
  },
  {
   "cell_type": "code",
   "execution_count": null,
   "metadata": {
    "collapsed": false
   },
   "outputs": [],
   "source": [
    "len(tsp_sim[1])"
   ]
  },
  {
   "cell_type": "code",
   "execution_count": 25,
   "metadata": {
    "collapsed": false
   },
   "outputs": [
    {
     "data": {
      "text/plain": [
       "358"
      ]
     },
     "execution_count": 25,
     "metadata": {},
     "output_type": "execute_result"
    }
   ],
   "source": [
    "len(tsp_sim[2])"
   ]
  },
  {
   "cell_type": "markdown",
   "metadata": {
    "collapsed": true
   },
   "source": [
    " "
   ]
  },
  {
   "cell_type": "code",
   "execution_count": 26,
   "metadata": {
    "collapsed": false
   },
   "outputs": [
    {
     "data": {
      "text/plain": [
       "[<matplotlib.lines.Line2D at 0x10d5afc88>]"
      ]
     },
     "execution_count": 26,
     "metadata": {},
     "output_type": "execute_result"
    },
    {
     "data": {
      "image/png": "[encoded data removed]",
      "text/plain": [
       "<matplotlib.figure.Figure at 0x10c20a240>"
      ]
     },
     "metadata": {},
     "output_type": "display_data"
    }
   ],
   "source": [
    "plt.plot(tsp_sim[0][:10],np.ones(len(tsp_sim[0][:10])),'ro')\n",
    "plt.plot(tsp_sim[1][:10],0.9*np.ones(len(tsp_sim[1][:10])),'go')\n",
    "plt.plot(tsp_sim[2][:10],0.8*np.ones(len(tsp_sim[2][:10])),'bo')"
   ]
  },
  {
   "cell_type": "code",
   "execution_count": null,
   "metadata": {
    "collapsed": false
   },
   "outputs": [],
   "source": []
  },
  {
   "cell_type": "code",
   "execution_count": null,
   "metadata": {
    "collapsed": true
   },
   "outputs": [],
   "source": []
  },
  {
   "cell_type": "code",
   "execution_count": null,
   "metadata": {
    "collapsed": true
   },
   "outputs": [],
   "source": []
  },
  {
   "cell_type": "code",
   "execution_count": null,
   "metadata": {
    "collapsed": false
   },
   "outputs": [],
   "source": []
  },
  {
   "cell_type": "code",
   "execution_count": null,
   "metadata": {
    "collapsed": true
   },
   "outputs": [],
   "source": []
  },
  {
   "cell_type": "code",
   "execution_count": null,
   "metadata": {
    "collapsed": false
   },
   "outputs": [],
   "source": []
  },
  {
   "cell_type": "code",
   "execution_count": null,
   "metadata": {
    "collapsed": false
   },
   "outputs": [],
   "source": []
  },
  {
   "cell_type": "code",
   "execution_count": null,
   "metadata": {
    "collapsed": true
   },
   "outputs": [],
   "source": []
  },
  {
   "cell_type": "code",
   "execution_count": null,
   "metadata": {
    "collapsed": true
   },
   "outputs": [],
   "source": []
  },
  {
   "cell_type": "code",
   "execution_count": null,
   "metadata": {
    "collapsed": true
   },
   "outputs": [],
   "source": []
  }
 ],
 "metadata": {
  "kernelspec": {
   "display_name": "Python 3",
   "language": "python",
   "name": "python3"
  },
  "language_info": {
   "codemirror_mode": {
    "name": "ipython",
    "version": 3
   },
   "file_extension": ".py",
   "mimetype": "text/x-python",
   "name": "python",
   "nbconvert_exporter": "python",
   "pygments_lexer": "ipython3",
   "version": "3.4.3"
  }
 },
 "nbformat": 4,
 "nbformat_minor": 0
}
