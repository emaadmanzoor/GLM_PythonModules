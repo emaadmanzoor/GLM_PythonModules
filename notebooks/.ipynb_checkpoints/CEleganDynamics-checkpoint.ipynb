{
 "cells": [
  {
   "cell_type": "code",
   "execution_count": 2,
   "metadata": {
    "collapsed": false
   },
   "outputs": [],
   "source": [
    "import numpy as np"
   ]
  },
  {
   "cell_type": "code",
   "execution_count": 3,
   "metadata": {
    "collapsed": true
   },
   "outputs": [],
   "source": [
    "from numpy import linalg"
   ]
  },
  {
   "cell_type": "markdown",
   "metadata": {},
   "source": [
    "Equations for the graded potential response of C. elegans neuronal network. "
   ]
  },
  {
   "cell_type": "markdown",
   "metadata": {},
   "source": [
    "$$C\\dot{V}_i  = - G^c(V_i - V_{leak}) - I_i^{Gap}(V) - I_i^{Syn}(V) +I_i^{Ext} \\hspace{0.2in}\\textrm{for i = 1,...,n}$$ "
   ]
  },
  {
   "cell_type": "markdown",
   "metadata": {},
   "source": [
    "$$\n",
    "C\\dot{V}_i  = - G^c(V_i - V_{leak}) - \\sum_{j=1}^nG^g_{ij}(V_i - V_j)- \\sum_{j=1}^n G_{ij}^s s_j(V_i - E_j) +I_i^{Ext}$$\n",
    "\n",
    "$$\\dot{s} = \\alpha_r \\phi(V_i; \\kappa,V_eq) (1 - s_i) - a_ds_i\n",
    "$$"
   ]
  },
  {
   "cell_type": "markdown",
   "metadata": {},
   "source": [
    "At equilibrium $\\dot V = 0$, $\\dot s = 0$, and $I_i^{Ext} = 0$."
   ]
  },
  {
   "cell_type": "markdown",
   "metadata": {},
   "source": [
    "$\\alpha_r \\phi(V_i; \\kappa,V_{eq}) (1 - s_i^{*}) - a_ds_i^{*} = 0$"
   ]
  },
  {
   "cell_type": "markdown",
   "metadata": {},
   "source": [
    "$s_i^{*} = \\frac{a_r \\phi(V_i;\\kappa,V_{eq})}{\\alpha_r \\phi(V_i;\\kappa,V_{eq}) + \\alpha_d}$"
   ]
  },
  {
   "cell_type": "markdown",
   "metadata": {},
   "source": [
    "$\\sum_{j=1}^nG^g_{ij}(V_i - V_j) = \\sum_{j=1}^nG^g_{ij} V_i - \\sum_{j=1}^nG^g_{ij}V_j$"
   ]
  },
  {
   "cell_type": "markdown",
   "metadata": {},
   "source": [
    "I_g = A_g.sum(axis = 1)*V - np.dot(A_g,V)"
   ]
  },
  {
   "cell_type": "markdown",
   "metadata": {},
   "source": [
    "$\\sum_{j=1}^n G_{ij}^s s_j(V_i - E_j) = \\sum_{j=1}^n G_{ij}^s s_j V_i -  \\sum_{j=1}^n G_{ij}^s (s_j E_j)$"
   ]
  },
  {
   "cell_type": "markdown",
   "metadata": {},
   "source": [
    "I_s = np.dot(A_s,s)*V- np.dot( A_s,s*E)"
   ]
  },
  {
   "cell_type": "markdown",
   "metadata": {},
   "source": [
    " $- G^c(V_i^{*} - V_{leak}) - \\sum_{j=1}^nG^g_{ij}(V_i^{*} - V_j^{*})- \\sum_{j=1}^n G_{ij}^s s_j^{*}(V_i^{*} - E_j)= 0$"
   ]
  },
  {
   "cell_type": "markdown",
   "metadata": {},
   "source": [
    "$G^c V^* + np.dot(A_s,s) V^* + A_g.sum(axis = 1)\\cdot V^* - np.dot(A_g,V^*) = G^c V_{leak} + A_s*(s*E)$"
   ]
  },
  {
   "cell_type": "markdown",
   "metadata": {},
   "source": [
    "$V^* + (1/G_c)*np.dot(A_s,s) V + (1/G_c)*A_g.sum(axis = 1)*V - (1/G_c)*np.dot(A_g,V) = V_{leak} + (1/G_c)A_s*(s*E)$"
   ]
  },
  {
   "cell_type": "code",
   "execution_count": null,
   "metadata": {
    "collapsed": true
   },
   "outputs": [],
   "source": [
    "when s is constant"
   ]
  },
  {
   "cell_type": "markdown",
   "metadata": {},
   "source": [
    "(diag(1 + rowSums(A_s)*s/G_c + rowSums(A_g)) - (1/G_c)A_g)V = V_{leak} +(1/G_c)A_s(sE)"
   ]
  },
  {
   "cell_type": "code",
   "execution_count": 24,
   "metadata": {
    "collapsed": true
   },
   "outputs": [],
   "source": [
    "def findEquilibrium(V_leak, E, A_g, A_s,g_gap,g_syn,G_c):\n",
    "    \n",
    "    V_leak = pd.Series(V_leak, index = E.index)\n",
    "\n",
    "    # Create c\n",
    "    c = V_leak + (g_syn/G_c)*np.dot(A_s.transpose(),E)/2.\n",
    "    \n",
    "    # Create B\n",
    "    B = - (g_gap/G_c)*A_g\n",
    "    B_diag = 1 + (g_gap/G_c)*np.sum(A_g,axis = 1) + (g_syn/G_c)*np.sum(A_s,axis = 1)/2.\n",
    "    np.fill_diagonal(B.values,np.array(B_diag))\n",
    "\n",
    "    # Solve B V_eq = c\n",
    "    V_eq = linalg.solve(B,c)\n",
    "    # assign an index to V_eq\n",
    "    V_eq = pd.Series(V_eq,index = c.index)\n",
    "    \n",
    "    return(V_eq)\n",
    "  "
   ]
  },
  {
   "cell_type": "markdown",
   "metadata": {},
   "source": [
    "$\\phi(V_i;\\kappa,V^*) = \\frac{1}{1+\\exp(\\kappa(V_i - V^*)/V_{range})}$"
   ]
  },
  {
   "cell_type": "markdown",
   "metadata": {},
   "source": [
    "Therefore, at equilibrium $\\phi = 1/2$."
   ]
  },
  {
   "cell_type": "markdown",
   "metadata": {},
   "source": [
    "Thus $s^* = \\frac{a_r}{a_r + 2a_d}$"
   ]
  },
  {
   "cell_type": "code",
   "execution_count": 4,
   "metadata": {
    "collapsed": false
   },
   "outputs": [
    {
     "name": "stdout",
     "output_type": "stream",
     "text": [
      "/Users/val/MEGAsync/GLM_PythonModules/code\n"
     ]
    }
   ],
   "source": [
    "cd code"
   ]
  },
  {
   "cell_type": "code",
   "execution_count": 2,
   "metadata": {
    "collapsed": false
   },
   "outputs": [
    {
     "name": "stdout",
     "output_type": "stream",
     "text": [
      "CEleganDynamics.ipynb                      NHPoissonProcesses.ipynb\r\n",
      "Filters.ipynb                              callback.html\r\n",
      "Filters_interactive.ipynb                  iterate.dat\r\n",
      "Fitting_1D_parameter.ipynb                 sampling_estimation_2groups-weights.ipynb\r\n",
      "Fitting_2D_parameters.ipynb                sampling_estimation_2groups.ipynb\r\n",
      "Integrate-and-fire.vs.Poisson.ipynb        sampling_estimation_interactive.ipynb\r\n",
      "MLE_multipleNeurons.ipynb                  sampling_estimation_multiple.ipynb\r\n",
      "MLE_multipleNeuronsWeights.ipynb           simSpikes_testing.ipynb\r\n",
      "MLE_singleNeuron.ipynb\r\n"
     ]
    }
   ],
   "source": [
    "ls"
   ]
  },
  {
   "cell_type": "code",
   "execution_count": 9,
   "metadata": {
    "collapsed": false
   },
   "outputs": [
    {
     "name": "stdout",
     "output_type": "stream",
     "text": [
      "PoissonProcessClasses.py      auxiliary_functions.pyc       read_CEleganConnectome.py\r\n",
      "PoissonProcessClasses.pyc     filters.py                    read_CEleganConnectome.pyc\r\n",
      "PoissonProcessMethods.py      filters.pyc                   run_CEleganDynamics_lists.py\r\n",
      "__init__.py                   iterate.dat                   simSpikes_Brian.py\r\n",
      "\u001b[34m__pycache__\u001b[m\u001b[m/                  likelihood_functions.py       simSpikes_LI.py\r\n",
      "auxiliary_functions.py        likelihood_functions.pyc      simSpikes_LIF.py\r\n"
     ]
    }
   ],
   "source": [
    "ls"
   ]
  },
  {
   "cell_type": "code",
   "execution_count": 19,
   "metadata": {
    "collapsed": false
   },
   "outputs": [
    {
     "name": "stdout",
     "output_type": "stream",
     "text": [
      "281\n",
      "True\n",
      "The number of electrical connections is 514.\n",
      "1777.0\n",
      "      ADAL  ADAR  ADEL  ADER  ADFL  ADFR  ADLL  ADLR  AFDL  AFDR  ...   VD04  \\\n",
      "ADAL     0     1     0     0     1     0     0     0     0     0  ...      0   \n",
      "ADAR     1     0     0     0     0     1     0     0     0     0  ...      0   \n",
      "ADEL     0     0     0     0     0     0     0     0     0     0  ...      0   \n",
      "ADER     0     0     0     0     0     0     0     0     0     0  ...      0   \n",
      "ADFL     1     0     0     0     0     0     0     0     0     0  ...      0   \n",
      "\n",
      "      VD05  VD06  VD07  VD08  VD09  VD10  VD11  VD12  VD13  \n",
      "ADAL     0     0     0     0     0     0     0     0     0  \n",
      "ADAR     0     0     0     0     0     0     0     0     0  \n",
      "ADEL     0     0     0     0     0     0     0     0     0  \n",
      "ADER     0     0     0     0     0     0     0     0     0  \n",
      "ADFL     0     0     0     0     0     0     0     0     0  \n",
      "\n",
      "[5 rows x 281 columns]\n",
      "The number of chemical connections is 2194.\n",
      "6394.0\n",
      "26\n",
      "A_e is symmetric\n"
     ]
    }
   ],
   "source": [
    "%run ../code/read_CEleganConnectome.py"
   ]
  },
  {
   "cell_type": "code",
   "execution_count": 22,
   "metadata": {
    "collapsed": false,
    "scrolled": false
   },
   "outputs": [
    {
     "name": "stdout",
     "output_type": "stream",
     "text": [
      "281\n",
      "The number of electrical connections is 514.\n",
      "1777.0\n",
      "The number of chemical connections is 2194.\n",
      "6394.0\n",
      "26\n",
      "A_e is symmetric\n",
      "ADAL   -0.023571\n",
      "ADAR   -0.022235\n",
      "ADEL   -0.024857\n",
      "ADER   -0.021576\n",
      "ADFL   -0.021926\n",
      "ADFR   -0.019243\n",
      "ADLL   -0.028827\n",
      "ADLR   -0.029153\n",
      "AFDL   -0.022050\n",
      "AFDR   -0.019235\n",
      "AIAL   -0.009803\n",
      "AIAR   -0.009013\n",
      "AIBL   -0.008412\n",
      "AIBR   -0.008877\n",
      "AIML   -0.029020\n",
      "AIMR   -0.031818\n",
      "AINL   -0.033367\n",
      "AINR   -0.031395\n",
      "AIYL   -0.011076\n",
      "AIYR   -0.010432\n",
      "AIZL   -0.009026\n",
      "AIZR   -0.011964\n",
      "ALA    -0.030796\n",
      "ALML   -0.027806\n",
      "ALMR   -0.033180\n",
      "ALNL   -0.030126\n",
      "ALNR   -0.031818\n",
      "AQR    -0.022268\n",
      "AS01   -0.028926\n",
      "AS02   -0.043407\n",
      "          ...   \n",
      "VB01   -0.036019\n",
      "VB02   -0.065697\n",
      "VB03   -0.096800\n",
      "VB04   -0.062943\n",
      "VB05   -0.084833\n",
      "VB06   -0.087587\n",
      "VB07   -0.032559\n",
      "VB08   -0.061335\n",
      "VB09   -0.036885\n",
      "VB10   -0.041995\n",
      "VB11   -0.039142\n",
      "VC01   -0.080107\n",
      "VC02   -0.075194\n",
      "VC03   -0.073366\n",
      "VC04   -0.034369\n",
      "VC05   -0.032633\n",
      "VC06   -0.035000\n",
      "VD01   -0.010941\n",
      "VD02   -0.010002\n",
      "VD03   -0.007210\n",
      "VD04   -0.007838\n",
      "VD05   -0.007643\n",
      "VD06   -0.007937\n",
      "VD07   -0.014960\n",
      "VD08   -0.029233\n",
      "VD09   -0.017956\n",
      "VD10   -0.024776\n",
      "VD11   -0.030435\n",
      "VD12   -0.020588\n",
      "VD13   -0.015499\n",
      "dtype: float64\n",
      "Integrating ODE\n",
      "Integration successful.\n"
     ]
    }
   ],
   "source": [
    "%run ../code/run_CEleganDynamics.py"
   ]
  },
  {
   "cell_type": "code",
   "execution_count": 8,
   "metadata": {
    "collapsed": false
   },
   "outputs": [],
   "source": [
    "A = A_c.iloc[0:2,0:2]\n",
    "A.iloc[0,0]=1\n",
    "A.iloc[1,0]=4\n",
    "A.iloc[0,1]=2\n",
    "A.iloc[1,1]=5"
   ]
  },
  {
   "cell_type": "code",
   "execution_count": 114,
   "metadata": {
    "collapsed": false
   },
   "outputs": [
    {
     "data": {
      "text/plain": [
       "Index([u'ALML', u'ALMR'], dtype='object')"
      ]
     },
     "execution_count": 114,
     "metadata": {},
     "output_type": "execute_result"
    }
   ],
   "source": [
    "A.columns"
   ]
  },
  {
   "cell_type": "code",
   "execution_count": 140,
   "metadata": {
    "collapsed": false
   },
   "outputs": [
    {
     "data": {
      "text/plain": [
       "array([ 1.,  4.])"
      ]
     },
     "execution_count": 140,
     "metadata": {},
     "output_type": "execute_result"
    }
   ],
   "source": [
    "np.dot(np.array(A),np.array(np.array([1,0]),index = [\"ALML\",\"ALMR\"]))"
   ]
  },
  {
   "cell_type": "code",
   "execution_count": 64,
   "metadata": {
    "collapsed": false
   },
   "outputs": [
    {
     "data": {
      "text/plain": [
       "array([[  5.],\n",
       "       [ 14.]])"
      ]
     },
     "execution_count": 64,
     "metadata": {},
     "output_type": "execute_result"
    }
   ],
   "source": [
    "np.dot(A,pd.DataFrame(np.array([1,2]),index = [\"ALML\",\"ALMR\"]))"
   ]
  },
  {
   "cell_type": "code",
   "execution_count": 65,
   "metadata": {
    "collapsed": false
   },
   "outputs": [
    {
     "data": {
      "text/html": [
       "<div>\n",
       "<table border=\"1\" class=\"dataframe\">\n",
       "  <thead>\n",
       "    <tr style=\"text-align: right;\">\n",
       "      <th></th>\n",
       "      <th>0</th>\n",
       "    </tr>\n",
       "    <tr>\n",
       "      <th>Neuron1</th>\n",
       "      <th></th>\n",
       "    </tr>\n",
       "  </thead>\n",
       "  <tbody>\n",
       "    <tr>\n",
       "      <th>ALML</th>\n",
       "      <td>5</td>\n",
       "    </tr>\n",
       "    <tr>\n",
       "      <th>ALMR</th>\n",
       "      <td>14</td>\n",
       "    </tr>\n",
       "  </tbody>\n",
       "</table>\n",
       "</div>"
      ],
      "text/plain": [
       "          0\n",
       "Neuron1    \n",
       "ALML      5\n",
       "ALMR     14"
      ]
     },
     "execution_count": 65,
     "metadata": {},
     "output_type": "execute_result"
    }
   ],
   "source": [
    "A.dot(pd.DataFrame(np.array([1,2]),index = [\"ALML\",\"ALMR\"]))"
   ]
  },
  {
   "cell_type": "code",
   "execution_count": 69,
   "metadata": {
    "collapsed": false
   },
   "outputs": [
    {
     "data": {
      "text/plain": [
       "array([[-0.33333333],\n",
       "       [ 0.66666667]])"
      ]
     },
     "execution_count": 69,
     "metadata": {},
     "output_type": "execute_result"
    }
   ],
   "source": [
    "linalg.solve(A,pd.DataFrame(np.array([1,2]),index = [\"ALML\",\"ALMR\"]))"
   ]
  },
  {
   "cell_type": "code",
   "execution_count": 11,
   "metadata": {
    "collapsed": false
   },
   "outputs": [
    {
     "data": {
      "text/plain": [
       "Neuron1\n",
       "ADAL    3\n",
       "ADAR    9\n",
       "dtype: float64"
      ]
     },
     "execution_count": 11,
     "metadata": {},
     "output_type": "execute_result"
    }
   ],
   "source": [
    "np.sum(A,axis = 1)"
   ]
  },
  {
   "cell_type": "code",
   "execution_count": 10,
   "metadata": {
    "collapsed": false
   },
   "outputs": [
    {
     "data": {
      "text/html": [
       "<div>\n",
       "<table border=\"1\" class=\"dataframe\">\n",
       "  <thead>\n",
       "    <tr style=\"text-align: right;\">\n",
       "      <th></th>\n",
       "      <th>ADAL</th>\n",
       "      <th>ADAR</th>\n",
       "    </tr>\n",
       "    <tr>\n",
       "      <th>Neuron1</th>\n",
       "      <th></th>\n",
       "      <th></th>\n",
       "    </tr>\n",
       "  </thead>\n",
       "  <tbody>\n",
       "    <tr>\n",
       "      <th>ADAL</th>\n",
       "      <td>1</td>\n",
       "      <td>2</td>\n",
       "    </tr>\n",
       "    <tr>\n",
       "      <th>ADAR</th>\n",
       "      <td>4</td>\n",
       "      <td>5</td>\n",
       "    </tr>\n",
       "  </tbody>\n",
       "</table>\n",
       "</div>"
      ],
      "text/plain": [
       "         ADAL  ADAR\n",
       "Neuron1            \n",
       "ADAL        1     2\n",
       "ADAR        4     5"
      ]
     },
     "execution_count": 10,
     "metadata": {},
     "output_type": "execute_result"
    }
   ],
   "source": [
    "A"
   ]
  },
  {
   "cell_type": "code",
   "execution_count": 32,
   "metadata": {
    "collapsed": false
   },
   "outputs": [
    {
     "name": "stdout",
     "output_type": "stream",
     "text": [
      "281\n",
      "The number of electrical connections is 514.\n",
      "1777.0\n",
      "The number of chemical connections is 2194.\n",
      "6394.0\n",
      "26\n",
      "A_e is symmetric\n"
     ]
    },
    {
     "data": {
      "text/plain": [
       "<module 'read_CEleganConnectome' from 'read_CEleganConnectome.py'>"
      ]
     },
     "execution_count": 32,
     "metadata": {},
     "output_type": "execute_result"
    }
   ],
   "source": [
    "import imp\n",
    "imp.reload(read_CEleganConnectome)"
   ]
  },
  {
   "cell_type": "code",
   "execution_count": 35,
   "metadata": {
    "collapsed": false
   },
   "outputs": [
    {
     "data": {
      "text/plain": [
       "6406.0"
      ]
     },
     "execution_count": 35,
     "metadata": {},
     "output_type": "execute_result"
    }
   ],
   "source": [
    "A_c.sum().sum()"
   ]
  },
  {
   "cell_type": "code",
   "execution_count": 29,
   "metadata": {
    "collapsed": false
   },
   "outputs": [
    {
     "name": "stdout",
     "output_type": "stream",
     "text": [
      "Help on function read_csv in module pandas.io.parsers:\n",
      "\n",
      "read_csv(filepath_or_buffer, sep=',', dialect=None, compression='infer', doublequote=True, escapechar=None, quotechar='\"', quoting=0, skipinitialspace=False, lineterminator=None, header='infer', index_col=None, names=None, prefix=None, skiprows=None, skipfooter=None, skip_footer=0, na_values=None, na_fvalues=None, true_values=None, false_values=None, delimiter=None, converters=None, dtype=None, usecols=None, engine=None, delim_whitespace=False, as_recarray=False, na_filter=True, compact_ints=False, use_unsigned=False, low_memory=True, buffer_lines=None, warn_bad_lines=True, error_bad_lines=True, keep_default_na=True, thousands=None, comment=None, decimal='.', parse_dates=False, keep_date_col=False, dayfirst=False, date_parser=None, memory_map=False, float_precision=None, nrows=None, iterator=False, chunksize=None, verbose=False, encoding=None, squeeze=False, mangle_dupe_cols=True, tupleize_cols=False, infer_datetime_format=False, skip_blank_lines=True)\n",
      "    Read CSV (comma-separated) file into DataFrame\n",
      "    \n",
      "    Also supports optionally iterating or breaking of the file\n",
      "    into chunks.\n",
      "    \n",
      "    Parameters\n",
      "    ----------\n",
      "    filepath_or_buffer : string or file handle / StringIO\n",
      "        The string could be a URL. Valid URL schemes include\n",
      "        http, ftp, s3, and file. For file URLs, a\n",
      "        host is expected. For instance, a local file could be\n",
      "        file ://localhost/path/to/table.csv\n",
      "    sep : string, default ','\n",
      "        Delimiter to use. If sep is None, will try to automatically determine\n",
      "        this. Regular expressions are accepted.\n",
      "    engine : {'c', 'python'}\n",
      "        Parser engine to use. The C engine is faster while the python engine is\n",
      "        currently more feature-complete.\n",
      "    lineterminator : string (length 1), default None\n",
      "        Character to break file into lines. Only valid with C parser\n",
      "    quotechar : string (length 1)\n",
      "        The character used to denote the start and end of a quoted item. Quoted\n",
      "        items can include the delimiter and it will be ignored.\n",
      "    quoting : int or csv.QUOTE_* instance, default None\n",
      "        Control field quoting behavior per ``csv.QUOTE_*`` constants. Use one of\n",
      "        QUOTE_MINIMAL (0), QUOTE_ALL (1), QUOTE_NONNUMERIC (2) or QUOTE_NONE (3).\n",
      "        Default (None) results in QUOTE_MINIMAL behavior.\n",
      "    skipinitialspace : boolean, default False\n",
      "        Skip spaces after delimiter\n",
      "    escapechar : string (length 1), default None\n",
      "        One-character string used to escape delimiter when quoting is QUOTE_NONE.\n",
      "    dtype : Type name or dict of column -> type\n",
      "        Data type for data or columns. E.g. {'a': np.float64, 'b': np.int32}\n",
      "        (Unsupported with engine='python')\n",
      "    compression : {'gzip', 'bz2', 'infer', None}, default 'infer'\n",
      "        For on-the-fly decompression of on-disk data. If 'infer', then use gzip or\n",
      "        bz2 if filepath_or_buffer is a string ending in '.gz' or '.bz2',\n",
      "        respectively, and no decompression otherwise. Set to None for no\n",
      "        decompression.\n",
      "    dialect : string or csv.Dialect instance, default None\n",
      "        If None defaults to Excel dialect. Ignored if sep longer than 1 char\n",
      "        See csv.Dialect documentation for more details\n",
      "    header : int, list of ints\n",
      "        Row number(s) to use as the column names, and the start of the\n",
      "        data.  Defaults to 0 if no ``names`` passed, otherwise ``None``. Explicitly\n",
      "        pass ``header=0`` to be able to replace existing names. The header can be\n",
      "        a list of integers that specify row locations for a multi-index on the\n",
      "        columns E.g. [0,1,3]. Intervening rows that are not specified will be\n",
      "        skipped (e.g. 2 in this example are skipped). Note that this parameter\n",
      "        ignores commented lines and empty lines if ``skip_blank_lines=True``, so header=0\n",
      "        denotes the first line of data rather than the first line of the file.\n",
      "    skiprows : list-like or integer\n",
      "        Line numbers to skip (0-indexed) or number of lines to skip (int)\n",
      "        at the start of the file\n",
      "    index_col : int or sequence or False, default None\n",
      "        Column to use as the row labels of the DataFrame. If a sequence is given, a\n",
      "        MultiIndex is used. If you have a malformed file with delimiters at the end\n",
      "        of each line, you might consider index_col=False to force pandas to _not_\n",
      "        use the first column as the index (row names)\n",
      "    names : array-like\n",
      "        List of column names to use. If file contains no header row, then you\n",
      "        should explicitly pass header=None\n",
      "    prefix : string, default None\n",
      "        Prefix to add to column numbers when no header, e.g 'X' for X0, X1, ...\n",
      "    na_values : list-like or dict, default None\n",
      "        Additional strings to recognize as NA/NaN. If dict passed, specific\n",
      "        per-column NA values\n",
      "    true_values : list\n",
      "        Values to consider as True\n",
      "    false_values : list\n",
      "        Values to consider as False\n",
      "    keep_default_na : bool, default True\n",
      "        If na_values are specified and keep_default_na is False the default NaN\n",
      "        values are overridden, otherwise they're appended to\n",
      "    parse_dates : boolean, list of ints or names, list of lists, or dict\n",
      "        If True -> try parsing the index.\n",
      "        If [1, 2, 3] -> try parsing columns 1, 2, 3 each as a separate date column.\n",
      "        If [[1, 3]] -> combine columns 1 and 3 and parse as a single date column.\n",
      "        {'foo' : [1, 3]} -> parse columns 1, 3 as date and call result 'foo'\n",
      "        A fast-path exists for iso8601-formatted dates.\n",
      "    keep_date_col : boolean, default False\n",
      "        If True and parse_dates specifies combining multiple columns then\n",
      "        keep the original columns.\n",
      "    date_parser : function\n",
      "        Function to use for converting a sequence of string columns to an\n",
      "        array of datetime instances. The default uses dateutil.parser.parser\n",
      "        to do the conversion. Pandas will try to call date_parser in three different\n",
      "        ways, advancing to the next if an exception occurs: 1) Pass one or more arrays\n",
      "        (as defined by parse_dates) as arguments; 2) concatenate (row-wise) the string\n",
      "        values from the columns defined by parse_dates into a single array and pass\n",
      "        that; and 3) call date_parser once for each row using one or more strings\n",
      "        (corresponding to the columns defined by parse_dates) as arguments.\n",
      "    dayfirst : boolean, default False\n",
      "        DD/MM format dates, international and European format\n",
      "    thousands : str, default None\n",
      "        Thousands separator\n",
      "    comment : str, default None\n",
      "        Indicates remainder of line should not be parsed. If found at the\n",
      "        beginning of a line, the line will be ignored altogether. This parameter\n",
      "        must be a single character. Like empty lines (as long as ``skip_blank_lines=True``),\n",
      "        fully commented lines are ignored by the parameter `header`\n",
      "        but not by `skiprows`. For example, if comment='#', parsing\n",
      "        '#empty\\na,b,c\\n1,2,3' with `header=0` will result in 'a,b,c' being\n",
      "        treated as the header.\n",
      "    decimal : str, default '.'\n",
      "        Character to recognize as decimal point. E.g. use ',' for European data\n",
      "    nrows : int, default None\n",
      "        Number of rows of file to read. Useful for reading pieces of large files\n",
      "    iterator : boolean, default False\n",
      "        Return TextFileReader object\n",
      "    chunksize : int, default None\n",
      "        Return TextFileReader object for iteration\n",
      "    skipfooter : int, default 0\n",
      "        Number of lines at bottom of file to skip (Unsupported with engine='c')\n",
      "    converters : dict, default None\n",
      "        Dict of functions for converting values in certain columns. Keys can either\n",
      "        be integers or column labels\n",
      "    verbose : boolean, default False\n",
      "        Indicate number of NA values placed in non-numeric columns\n",
      "    delimiter : string, default None\n",
      "        Alternative argument name for sep. Regular expressions are accepted.\n",
      "    encoding : string, default None\n",
      "        Encoding to use for UTF when reading/writing (ex. 'utf-8'). `List of Python\n",
      "        standard encodings\n",
      "        <https://docs.python.org/3/library/codecs.html#standard-encodings>`_\n",
      "    squeeze : boolean, default False\n",
      "        If the parsed data only contains one column then return a Series\n",
      "    na_filter : boolean, default True\n",
      "        Detect missing value markers (empty strings and the value of na_values). In\n",
      "        data without any NAs, passing na_filter=False can improve the performance\n",
      "        of reading a large file\n",
      "    usecols : array-like\n",
      "        Return a subset of the columns.\n",
      "        Results in much faster parsing time and lower memory usage.\n",
      "    mangle_dupe_cols : boolean, default True\n",
      "        Duplicate columns will be specified as 'X.0'...'X.N', rather than 'X'...'X'\n",
      "    tupleize_cols : boolean, default False\n",
      "        Leave a list of tuples on columns as is (default is to convert to\n",
      "        a Multi Index on the columns)\n",
      "    error_bad_lines : boolean, default True\n",
      "        Lines with too many fields (e.g. a csv line with too many commas) will by\n",
      "        default cause an exception to be raised, and no DataFrame will be returned.\n",
      "        If False, then these \"bad lines\" will dropped from the DataFrame that is\n",
      "        returned. (Only valid with C parser)\n",
      "    warn_bad_lines : boolean, default True\n",
      "        If error_bad_lines is False, and warn_bad_lines is True, a warning for each\n",
      "        \"bad line\" will be output. (Only valid with C parser).\n",
      "    infer_datetime_format : boolean, default False\n",
      "        If True and parse_dates is enabled for a column, attempt to infer\n",
      "        the datetime format to speed up the processing\n",
      "    skip_blank_lines : boolean, default True\n",
      "        If True, skip over blank lines rather than interpreting as NaN values\n",
      "    \n",
      "    Returns\n",
      "    -------\n",
      "    result : DataFrame or TextParser\n",
      "\n"
     ]
    }
   ],
   "source": [
    "help(pd.read_csv)"
   ]
  },
  {
   "cell_type": "code",
   "execution_count": 30,
   "metadata": {
    "collapsed": false
   },
   "outputs": [
    {
     "name": "stdout",
     "output_type": "stream",
     "text": [
      "     Neuron1 Neuron2 Type  Nbr\n",
      "0       ADAR    ADAL   EJ    1\n",
      "1       ADFL    ADAL   EJ    1\n",
      "2       ASHL    ADAL   EJ    1\n",
      "3       AVDR    ADAL   EJ    2\n",
      "4       PVQL    ADAL   EJ    1\n",
      "5       ADEL    ADAL   Sp    1\n",
      "6       ADFL    ADAL   Sp    1\n",
      "7       AIAL    ADAL   Sp    1\n",
      "8       AIBL    ADAL    R    1\n",
      "9       AIBR    ADAL   Rp    2\n",
      "10      ASHL    ADAL   Sp    1\n",
      "11      AVAR    ADAL   Rp    2\n",
      "12      AVBL    ADAL   Rp    4\n",
      "13      AVBR    ADAL    R    2\n",
      "14      AVBR    ADAL   Rp    5\n",
      "15      AVDL    ADAL   Rp    1\n",
      "16      AVEL    ADAL   Rp    1\n",
      "17      AVJR    ADAL   Rp    5\n",
      "18      AWAL    ADAL    S    1\n",
      "19      FLPR    ADAL   Rp    1\n",
      "20      PVPL    ADAL   Sp    1\n",
      "21       PVR    ADAL   Sp    1\n",
      "22      RICL    ADAL    R    1\n",
      "23      RICL    ADAL   Rp    1\n",
      "24      RICR    ADAL   Rp    1\n",
      "25      RIML    ADAL   Rp    3\n",
      "26      RIPL    ADAL   Rp    1\n",
      "27      RMGL    ADAL   Sp    1\n",
      "28     SMDVR    ADAL    R    2\n",
      "29      ADAL    ADAR   EJ    1\n",
      "...      ...     ...  ...  ...\n",
      "6387    VB03     NMJ  NMJ   35\n",
      "6388    VB04     NMJ  NMJ   20\n",
      "6389    VB05     NMJ  NMJ   22\n",
      "6390    VB06     NMJ  NMJ   28\n",
      "6391    VB07     NMJ  NMJ    2\n",
      "6392    VB08     NMJ  NMJ   32\n",
      "6393    VB09     NMJ  NMJ   24\n",
      "6394    VB10     NMJ  NMJ   20\n",
      "6395    VB11     NMJ  NMJ   14\n",
      "6396    VC01     NMJ  NMJ    5\n",
      "6397    VC02     NMJ  NMJ    9\n",
      "6398    VC02     NMJ  NMJ    1\n",
      "6399    VC03     NMJ  NMJ    8\n",
      "6400    VC04     NMJ  NMJ    4\n",
      "6401    VC04     NMJ  NMJ    3\n",
      "6402    VC05     NMJ  NMJ    2\n",
      "6403    VC06     NMJ  NMJ    1\n",
      "6404    VD01     NMJ  NMJ   12\n",
      "6405    VD02     NMJ  NMJ   22\n",
      "6406    VD03     NMJ  NMJ   23\n",
      "6407    VD04     NMJ  NMJ   25\n",
      "6408    VD05     NMJ  NMJ   26\n",
      "6409    VD06     NMJ  NMJ   27\n",
      "6410    VD07     NMJ  NMJ   24\n",
      "6411    VD08     NMJ  NMJ   25\n",
      "6412    VD09     NMJ  NMJ   28\n",
      "6413    VD10     NMJ  NMJ   22\n",
      "6414    VD11     NMJ  NMJ   11\n",
      "6415    VD12     NMJ  NMJ   13\n",
      "6416    VD13     NMJ  NMJ   12\n",
      "\n",
      "[6417 rows x 4 columns]\n"
     ]
    }
   ],
   "source": [
    "print(neuronData)"
   ]
  },
  {
   "cell_type": "code",
   "execution_count": 6,
   "metadata": {
    "collapsed": false
   },
   "outputs": [
    {
     "name": "stdout",
     "output_type": "stream",
     "text": [
      "Help on built-in function execfile in module __builtin__:\n",
      "\n",
      "execfile(...)\n",
      "    execfile(filename[, globals[, locals]])\n",
      "    \n",
      "    Read and execute a Python script from a file.\n",
      "    The globals and locals are dictionaries, defaulting to the current\n",
      "    globals and locals.  If only globals is given, locals defaults to it.\n",
      "\n"
     ]
    }
   ],
   "source": [
    "help(execfile)"
   ]
  },
  {
   "cell_type": "code",
   "execution_count": 8,
   "metadata": {
    "collapsed": false
   },
   "outputs": [
    {
     "name": "stdout",
     "output_type": "stream",
     "text": [
      "CEleganDynamics.ipynb                      NHPoissonProcesses.ipynb\r\n",
      "Filters.ipynb                              callback.html\r\n",
      "Filters_interactive.ipynb                  iterate.dat\r\n",
      "Fitting_1D_parameter.ipynb                 sampling_estimation_2groups-weights.ipynb\r\n",
      "Fitting_2D_parameters.ipynb                sampling_estimation_2groups.ipynb\r\n",
      "Integrate-and-fire.vs.Poisson.ipynb        sampling_estimation_interactive.ipynb\r\n",
      "MLE_multipleNeurons.ipynb                  sampling_estimation_multiple.ipynb\r\n",
      "MLE_multipleNeuronsWeights.ipynb           simSpikes_testing.ipynb\r\n",
      "MLE_singleNeuron.ipynb\r\n"
     ]
    }
   ],
   "source": [
    "ls"
   ]
  },
  {
   "cell_type": "code",
   "execution_count": null,
   "metadata": {
    "collapsed": false
   },
   "outputs": [],
   "source": []
  },
  {
   "cell_type": "code",
   "execution_count": null,
   "metadata": {
    "collapsed": false
   },
   "outputs": [],
   "source": []
  },
  {
   "cell_type": "code",
   "execution_count": null,
   "metadata": {
    "collapsed": true
   },
   "outputs": [],
   "source": []
  }
 ],
 "metadata": {
  "kernelspec": {
   "display_name": "Python 2",
   "language": "python",
   "name": "python2"
  },
  "language_info": {
   "codemirror_mode": {
    "name": "ipython",
    "version": 2
   },
   "file_extension": ".py",
   "mimetype": "text/x-python",
   "name": "python",
   "nbconvert_exporter": "python",
   "pygments_lexer": "ipython2",
   "version": "2.7.9"
  }
 },
 "nbformat": 4,
 "nbformat_minor": 0
}
