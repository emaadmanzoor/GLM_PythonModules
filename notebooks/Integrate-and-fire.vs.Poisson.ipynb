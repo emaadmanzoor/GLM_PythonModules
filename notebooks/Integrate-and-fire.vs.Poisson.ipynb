{
 "cells": [
  {
   "cell_type": "markdown",
   "metadata": {},
   "source": [
    "## This notebook explores the relationship between Integrate-and-fire and Poisson dynamics models for neurons"
   ]
  },
  {
   "cell_type": "markdown",
   "metadata": {},
   "source": [
    "$\\frac{dV_t}{dt} = -(V_t-V_th) + I_t$ (do I need $V_th = 0$ for coincidence)\n",
    "\n",
    "if V>th, V = V_{reset} (write this mathematically) "
   ]
  },
  {
   "cell_type": "markdown",
   "metadata": {},
   "source": [
    "Adding noise:"
   ]
  },
  {
   "cell_type": "markdown",
   "metadata": {},
   "source": [
    "$ \\frac{dV_t}{dt} = -(V_t-V_{th}) + I_t + \\varepsilon_t  \\hspace{0.3in}\\varepsilon \\sim \\mathcal{N}(0,\\sigma)$"
   ]
  },
  {
   "cell_type": "markdown",
   "metadata": {},
   "source": [
    "Formalizing the thresholding:"
   ]
  },
  {
   "cell_type": "markdown",
   "metadata": {},
   "source": [
    "Sigmoid Function:  $\\hspace{0.1in} \\varphi(x) = \\frac{1}{1+e^{-x}}$ (I think I need the erfc)"
   ]
  },
  {
   "cell_type": "markdown",
   "metadata": {},
   "source": [
    "$\\frac{dV_t}{dt} = -(V_t-V_th) + I_t$"
   ]
  },
  {
   "cell_type": "markdown",
   "metadata": {},
   "source": [
    "Simulate sample paths and calculate the probability of first passage time. "
   ]
  },
  {
   "cell_type": "markdown",
   "metadata": {},
   "source": [
    "Poisson process but intensity depends on  $v$ not directly on stimulus.\n",
    "\n",
    "I think it is more correct to state that it is a recurrent process, what is ISI?"
   ]
  },
  {
   "cell_type": "code",
   "execution_count": null,
   "metadata": {
    "collapsed": true
   },
   "outputs": [],
   "source": []
  }
 ],
 "metadata": {
  "kernelspec": {
   "display_name": "Python 3",
   "language": "python",
   "name": "python3"
  },
  "language_info": {
   "codemirror_mode": {
    "name": "ipython",
    "version": 3
   },
   "file_extension": ".py",
   "mimetype": "text/x-python",
   "name": "python",
   "nbconvert_exporter": "python",
   "pygments_lexer": "ipython3",
   "version": "3.4.3"
  }
 },
 "nbformat": 4,
 "nbformat_minor": 0
}
