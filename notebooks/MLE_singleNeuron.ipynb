{
 "cells": [
  {
   "cell_type": "markdown",
   "metadata": {},
   "source": [
    "#### This notebook presents how to perform maximum-likelihood parameter estimation for a single neuron."
   ]
  },
  {
   "cell_type": "code",
   "execution_count": 1,
   "metadata": {
    "collapsed": true
   },
   "outputs": [],
   "source": [
    "import numpy as np\n",
    "import matplotlib.pyplot as plt\n",
    "import pandas as pd\n",
    "import random\n",
    "%matplotlib inline"
   ]
  },
  {
   "cell_type": "code",
   "execution_count": 2,
   "metadata": {
    "collapsed": false
   },
   "outputs": [],
   "source": [
    "import sys\n",
    "import os\n",
    "sys.path.append(os.path.join(os.getcwd(),\"..\"))\n",
    "sys.path.append(os.path.join(os.getcwd(),\"..\",\"code\"))\n",
    "data_path = os.path.join(os.getcwd(),\"..\",'data')\n",
    "sys.path.append(data_path)"
   ]
  },
  {
   "cell_type": "code",
   "execution_count": 3,
   "metadata": {
    "collapsed": false
   },
   "outputs": [],
   "source": [
    "import filters\n",
    "import likelihood_functions as lk\n",
    "import PoissonProcessClasses as PP\n",
    "import auxiliary_functions as auxfun"
   ]
  },
  {
   "cell_type": "code",
   "execution_count": 4,
   "metadata": {
    "collapsed": false
   },
   "outputs": [
    {
     "data": {
      "text/plain": [
       "<module 'PoissonProcessClasses' from '/Users/val/MEGAsync/GLM_PythonModules/notebooks/../code/PoissonProcessClasses.py'>"
      ]
     },
     "execution_count": 4,
     "metadata": {},
     "output_type": "execute_result"
    }
   ],
   "source": [
    "# Reloading modules which are in development\n",
    "import imp\n",
    "imp.reload(filters)\n",
    "imp.reload(auxfun)\n",
    "imp.reload(lk)\n",
    "imp.reload(PP)"
   ]
  },
  {
   "cell_type": "markdown",
   "metadata": {},
   "source": [
    "Reading input-output data:"
   ]
  },
  {
   "cell_type": "code",
   "execution_count": 5,
   "metadata": {
    "collapsed": false
   },
   "outputs": [],
   "source": [
    "# reading stimulus\n",
    "Stim = np.array(pd.read_csv(os.path.join(data_path,'Stim.csv'),header = None))\n",
    "# reading location of spikes\n",
    "tsp = np.hstack(np.array(pd.read_csv(os.path.join(data_path,'tsp.csv'),header = None)))"
   ]
  },
  {
   "cell_type": "markdown",
   "metadata": {},
   "source": [
    "Extracting a spike train from spike positions:"
   ]
  },
  {
   "cell_type": "code",
   "execution_count": 6,
   "metadata": {
    "collapsed": false
   },
   "outputs": [],
   "source": [
    "dt = 0.01\n",
    "tsp_int = np.ceil((tsp - dt*0.001)/dt)\n",
    "tsp_int = np.reshape(tsp_int,(tsp_int.shape[0],1))\n",
    "tsp_int = tsp_int.astype(int)\n",
    "y = np.array([item in tsp_int for item in np.arange(Stim.shape[0]/dt)+1]).astype(int)"
   ]
  },
  {
   "cell_type": "markdown",
   "metadata": {},
   "source": [
    "Displaying a subset of the spike train:"
   ]
  },
  {
   "cell_type": "code",
   "execution_count": 7,
   "metadata": {
    "collapsed": false
   },
   "outputs": [
    {
     "data": {
      "image/png": "[encoded data removed]",
      "text/plain": [
       "<matplotlib.figure.Figure at 0x10bcd42b0>"
      ]
     },
     "metadata": {},
     "output_type": "display_data"
    }
   ],
   "source": [
    "fig, ax = plt.subplots(figsize=(16, 2))\n",
    "fig = ax.matshow(np.reshape(y[:1000],(1,len(y[:1000]))),cmap = 'Greys',aspect = 15)"
   ]
  },
  {
   "cell_type": "markdown",
   "metadata": {},
   "source": [
    "Creating filters:"
   ]
  },
  {
   "cell_type": "code",
   "execution_count": 8,
   "metadata": {
    "collapsed": false
   },
   "outputs": [],
   "source": [
    "# create a stimulus filter\n",
    "kpeaks = np.array([0,round(20/3)])\n",
    "pars_k = {'neye':5,'n':5,'kpeaks':kpeaks,'b':3}\n",
    "K,K_orth,kt_domain = filters.createStimulusBasis(pars_k, nkt = 20) "
   ]
  },
  {
   "cell_type": "code",
   "execution_count": 9,
   "metadata": {
    "collapsed": true
   },
   "outputs": [],
   "source": [
    "# create a post-spike filter\n",
    "hpeaks = np.array([0.1,2])\n",
    "pars_h = {'n':5,'hpeaks':hpeaks,'b':.4,'absref':0.}\n",
    "H,H_orth,ht_domain = filters.createPostSpikeBasis(pars_h,dt)"
   ]
  },
  {
   "cell_type": "code",
   "execution_count": 10,
   "metadata": {
    "collapsed": false
   },
   "outputs": [
    {
     "name": "stdout",
     "output_type": "stream",
     "text": [
      "(2,)\n",
      "(486, 486)\n"
     ]
    }
   ],
   "source": [
    "# Interpolate Post Spike Filter\n",
    "MSP = auxfun.makeInterpMatrix(len(ht_domain),1)\n",
    "MSP[0,0] = 0\n",
    "H_orth = np.dot(MSP,H_orth)"
   ]
  },
  {
   "cell_type": "code",
   "execution_count": 11,
   "metadata": {
    "collapsed": false
   },
   "outputs": [
    {
     "data": {
      "text/plain": [
       "(486, 486)"
      ]
     },
     "execution_count": 11,
     "metadata": {},
     "output_type": "execute_result"
    }
   ],
   "source": [
    "MSP.shape"
   ]
  },
  {
   "cell_type": "markdown",
   "metadata": {},
   "source": [
    "*Conditional Intensity* (spike rate):\n",
    "\n",
    "$$\\lambda_{\\beta} = \\exp(K(\\beta_k)*Stim + H(\\beta_h)*y + dc)$$\n",
    "\n",
    "($\\beta_k$ and $\\beta_h$ are the unknown coefficients of the filters and $dc$ is the direct current)."
   ]
  },
  {
   "cell_type": "markdown",
   "metadata": {
    "collapsed": true
   },
   "source": [
    "Since the convolution is a linear operation the intensity can be written in the following form:\n",
    "\n",
    "$$\\lambda_{\\beta} = \\exp(M_k \\beta_k + M_h\\beta_h + \\textbf{1}dc),$$\n",
    "\n",
    "where $M_k$ and $M_h$ are matrices depending on the stimulus and the response correspondingly and $\\textbf{1}$ is a vector of ones."
   ]
  },
  {
   "cell_type": "markdown",
   "metadata": {},
   "source": [
    "Creating a matrix of covariates:"
   ]
  },
  {
   "cell_type": "code",
   "execution_count": 12,
   "metadata": {
    "collapsed": false
   },
   "outputs": [],
   "source": [
    "M_k = lk.construct_M_k(Stim,K,dt)"
   ]
  },
  {
   "cell_type": "code",
   "execution_count": 13,
   "metadata": {
    "collapsed": false
   },
   "outputs": [],
   "source": [
    "M_h = lk.construct_M_h(tsp,H_orth,dt,Stim)"
   ]
  },
  {
   "cell_type": "markdown",
   "metadata": {
    "collapsed": false
   },
   "source": [
    "Combining $M_k$, $M_h$ and $\\textbf{1}$ into one covariate matrix:"
   ]
  },
  {
   "cell_type": "code",
   "execution_count": 14,
   "metadata": {
    "collapsed": false
   },
   "outputs": [],
   "source": [
    "M = np.hstack((M_k,M_h,np.ones((M_h.shape[0],1))))"
   ]
  },
  {
   "cell_type": "markdown",
   "metadata": {},
   "source": [
    "The conditional intensity becomes:\n",
    "$$ \\lambda_{\\beta} = \\exp(M\\beta) $$\n",
    "\n",
    "($\\beta$ contains all the unknown parameters)."
   ]
  },
  {
   "cell_type": "markdown",
   "metadata": {},
   "source": [
    "Create a Poisson process model with this intensity:"
   ]
  },
  {
   "cell_type": "code",
   "execution_count": 15,
   "metadata": {
    "collapsed": false
   },
   "outputs": [],
   "source": [
    "model = PP.PPModel(M.T,dt = dt/100)"
   ]
  },
  {
   "cell_type": "markdown",
   "metadata": {},
   "source": [
    "Setting initial parameters for optimization:"
   ]
  },
  {
   "cell_type": "code",
   "execution_count": 16,
   "metadata": {
    "collapsed": false
   },
   "outputs": [],
   "source": [
    "coeff_k0 = np.array([-0.02304,\n",
    "   0.12903,\n",
    "   0.35945,\n",
    "   0.39631,\n",
    "   0.27189,\n",
    "   0.22003,\n",
    "  -0.17457,\n",
    "   0.00482,\n",
    "  -0.09811,\n",
    "   0.04823])\n",
    "coeff_h0 = np.zeros((5,))\n",
    "dc0 = 0\n",
    "\n",
    "pars0 = np.hstack((coeff_k0,coeff_h0,dc0))"
   ]
  },
  {
   "cell_type": "code",
   "execution_count": 17,
   "metadata": {
    "collapsed": false
   },
   "outputs": [],
   "source": [
    "# pars0 = np.hstack((np.zeros((10,)),np.ones((5,)),0))"
   ]
  },
  {
   "cell_type": "markdown",
   "metadata": {},
   "source": [
    "Fitting the likelihood (here using Limited Memory BFGS method with 500 iterations):"
   ]
  },
  {
   "cell_type": "code",
   "execution_count": 18,
   "metadata": {
    "collapsed": false
   },
   "outputs": [
    {
     "name": "stdout",
     "output_type": "stream",
     "text": [
      "-389.09828112\n",
      "-1371.83034726\n",
      "273841.02813\n",
      "-1618.47383527\n",
      "-1662.80305679\n",
      "-1186.54105026\n",
      "-1790.30108482\n",
      "-1873.08211713\n",
      "-1923.51526402\n",
      "-1955.66643226\n",
      "-1997.71741105\n",
      "-2024.69276077\n",
      "-2036.65395162\n",
      "-2040.12838983\n",
      "-2043.61678464\n",
      "-2048.564233\n",
      "-2054.77501312\n",
      "-2071.33859401\n",
      "-2108.09463066\n",
      "-2161.68744978\n",
      "-2250.96307752\n",
      "-2322.86549294\n",
      "-2389.22303221\n",
      "-2366.66813707\n",
      "-2403.26031904\n",
      "-2417.66550327\n",
      "-2428.8369058\n",
      "-2448.1148988\n",
      "-2479.28621294\n",
      "-2528.90692195\n",
      "-2513.75713527\n",
      "-2544.03635611\n",
      "-2554.98728472\n",
      "-2557.40523849\n",
      "-2558.69013435\n",
      "-2560.37624644\n",
      "-2559.74938385\n",
      "-2560.80156666\n",
      "-2561.26020304\n",
      "-2561.56490122\n",
      "-2561.80868238\n",
      "-2562.39125944\n",
      "-2563.43379348\n",
      "-2564.72111833\n",
      "-2566.22047037\n",
      "-2567.44056538\n",
      "-2569.21843472\n",
      "-2572.01096182\n",
      "-2569.49245482\n",
      "-2573.92307356\n",
      "-2577.62142258\n",
      "-2581.42373597\n",
      "-2586.48112564\n",
      "-2592.27051534\n",
      "-2595.53465805\n",
      "-2598.88749007\n",
      "-2599.96924845\n",
      "-2601.08820727\n",
      "-2601.9151204\n",
      "-2603.38811719\n",
      "-2604.26326276\n",
      "-2605.27384205\n",
      "-2607.52175411\n",
      "-2600.29251498\n",
      "-2608.77383571\n",
      "-2611.64404424\n",
      "-2613.63098266\n",
      "-2614.86744094\n",
      "-2614.27046995\n",
      "-2615.03307361\n",
      "-2615.12977634\n",
      "-2615.18634065\n",
      "-2615.21271649\n",
      "-2615.25284471\n",
      "-2615.32153403\n",
      "-2615.24738687\n",
      "-2615.34291158\n",
      "-2615.37868378\n",
      "-2615.3850172\n",
      "-2615.39437624\n",
      "-2615.39912995\n",
      "-2615.41105186\n",
      "-2615.42999683\n",
      "-2615.47047602\n",
      "-2615.54716836\n",
      "-2615.68360147\n",
      "-2616.02962119\n",
      "-2616.50372241\n",
      "-2616.74696196\n",
      "-2617.1345526\n",
      "-2617.35741616\n",
      "-2617.52674804\n",
      "-2617.63706731\n",
      "-2617.67974719\n",
      "-2617.69958192\n",
      "-2617.74477354\n",
      "-2617.8266086\n",
      "-2617.93137041\n",
      "-2618.03519873\n",
      "-2618.13174762\n",
      "-2618.09904421\n",
      "-2618.16691567\n",
      "-2618.16521982\n",
      "-2618.18737833\n",
      "-2618.192545\n",
      "-2618.19418496\n",
      "-2618.19633573\n",
      "-2618.19770193\n",
      "-2618.1989979\n",
      "-2618.19957884\n",
      "-2618.1999831\n",
      "-2618.20172494\n",
      "-2618.20504204\n",
      "-2618.21230939\n",
      "-2618.20500658\n",
      "-2618.21626778\n",
      "-2618.22535685\n",
      "-2618.25711513\n",
      "-2618.27189836\n",
      "-2618.32433249\n",
      "-2618.16650921\n",
      "-2618.33127003\n",
      "-2618.34779711\n",
      "-2618.35543851\n",
      "-2618.36224537\n",
      "-2618.372859\n",
      "-2618.37614925\n",
      "-2618.3803103\n",
      "-2618.38113176\n",
      "-2618.3817042\n",
      "-2618.38189437\n",
      "-2618.38253864\n",
      "-2618.38333631\n",
      "-2618.38382868\n",
      "-2618.38522571\n",
      "-2618.3863625\n",
      "-2618.38840839\n",
      "-2618.39234502\n",
      "-2618.38406095\n",
      "-2618.39436267\n",
      "-2618.39951636\n",
      "-2618.40940435\n",
      "-2618.42595069\n",
      "-2618.45396841\n",
      "-2618.48091476\n",
      "-2618.50736653\n",
      "-2618.51518245\n",
      "-2618.52380461\n",
      "-2618.52974247\n",
      "-2618.53556075\n",
      "-2618.53915497\n",
      "-2618.54050964\n",
      "-2618.54331391\n",
      "-2618.54704669\n",
      "-2618.56622383\n",
      "-2618.59650541\n",
      "-2618.63285328\n",
      "-2618.68801996\n",
      "-2618.72953626\n",
      "-2618.77219945\n",
      "-2618.81289563\n",
      "-2618.26668239\n",
      "-2618.81864101\n",
      "-2618.83813755\n",
      "-2618.84340253\n",
      "-2618.85632546\n",
      "-2618.86184696\n",
      "-2618.87117135\n",
      "-2618.88763013\n",
      "-2618.936646\n",
      "-2619.03419794\n",
      "-2619.18593829\n",
      "-2619.10819809\n",
      "-2619.28786855\n",
      "-2619.42554892\n",
      "-2619.49528721\n",
      "-2619.53733712\n",
      "-2619.55801896\n",
      "-2619.60102064\n",
      "-2619.62806528\n",
      "-2619.66581681\n",
      "-2619.70692035\n",
      "-2619.72484217\n",
      "-2619.77983951\n",
      "-2619.85511789\n",
      "-2619.9356201\n",
      "-2620.02559261\n",
      "-2620.11568427\n",
      "-2620.1707771\n",
      "-2620.22173504\n",
      "-2620.28088169\n",
      "-2620.32773555\n",
      "-2620.08336516\n",
      "-2620.34909202\n",
      "-2620.39059073\n",
      "-2620.42396239\n",
      "-2620.45538517\n",
      "-2620.48880521\n",
      "-2620.50774867\n",
      "-2620.51180106\n",
      "-2620.52143568\n",
      "-2620.52617338\n",
      "-2620.53530924\n",
      "-2620.54594864\n",
      "-2620.55328377\n",
      "-2620.56453378\n",
      "-2620.57274126\n",
      "-2620.58577192\n",
      "-2620.6253095\n",
      "-2620.69425989\n",
      "-2620.79343861\n",
      "-2620.89379323\n",
      "-2620.96424726\n",
      "-2621.0024535\n",
      "-2621.05971555\n",
      "-2621.06879143\n",
      "-2621.10584274\n",
      "-2621.11723906\n",
      "-2621.13140106\n",
      "-2621.16701225\n",
      "-2621.23720793\n",
      "-2621.35493669\n",
      "-2621.13055505\n",
      "-2621.39587609\n",
      "-2621.49640568\n",
      "-2621.5336332\n",
      "-2621.54358124\n",
      "-2621.55058719\n",
      "-2621.55598418\n",
      "-2621.53842038\n",
      "-2621.55686275\n",
      "-2621.55761446\n",
      "-2621.55948769\n",
      "-2621.56739027\n",
      "-2621.5776678\n",
      "-2621.59439529\n",
      "-2621.61722445\n",
      "-2621.63116621\n",
      "-2621.66249213\n",
      "-2621.67638279\n",
      "-2621.71897845\n",
      "-2621.73219505\n",
      "-2621.76701124\n",
      "-2621.77552337\n",
      "-2621.79418849\n",
      "-2621.8113411\n",
      "-2621.84398454\n",
      "-2621.85384963\n",
      "-2621.88257706\n",
      "-2621.89681271\n",
      "-2621.83515538\n",
      "-2621.90160194\n",
      "-2621.91562093\n",
      "-2621.92616058\n",
      "-2621.92980199\n",
      "-2621.93680937\n",
      "-2621.93988034\n",
      "-2621.94537229\n",
      "-2621.95306875\n",
      "-2621.97336148\n",
      "-2621.97410455\n",
      "-2621.98522063\n",
      "-2622.00710001\n",
      "-2622.02091348\n",
      "-2622.01388578\n",
      "-2622.02422233\n",
      "-2622.02712792\n",
      "-2622.02972103\n",
      "-2622.03084439\n",
      "-2622.03178355\n",
      "-2622.03233288\n",
      "-2622.03356104\n",
      "-2622.03452794\n",
      "-2622.0351481\n",
      "-2622.03604665\n",
      "-2622.036639\n",
      "-2622.03708357\n",
      "-2622.03536989\n",
      "-2622.03716942\n",
      "-2622.03725866\n",
      "-2622.03739677\n",
      "-2622.03754687\n",
      "-2622.03773367\n",
      "-2622.03798067\n",
      "-2622.03837264\n",
      "-2622.03938836\n",
      "-2622.04137866\n",
      "-2622.04253069\n",
      "-2622.04675524\n",
      "-2622.04877933\n",
      "-2622.04949346\n",
      "-2622.05023348\n",
      "-2622.05048273\n",
      "-2622.05102755\n",
      "-2622.05134342\n",
      "-2622.05142937\n",
      "-2622.05174419\n",
      "-2622.05187411\n",
      "-2622.05210511\n",
      "-2622.05232347\n",
      "-2622.05250985\n",
      "-2622.05263497\n",
      "-2622.05250963\n",
      "-2622.05265652\n",
      "-2622.05268328\n",
      "-2622.05270386\n",
      "-2622.05271994\n",
      "-2622.05273435\n",
      "-2622.05275573\n",
      "-2622.05277223\n",
      "-2622.05279581\n",
      "-2622.05283113\n",
      "-2622.05284012\n",
      "-2622.0528463\n",
      "-2622.05285312\n",
      "-2622.05287052\n",
      "-2622.0528879\n",
      "-2622.05291567\n",
      "-2622.05295025\n",
      "-2622.05297319\n",
      "-2622.0530216\n",
      "-2622.05307388\n",
      "-2622.05311644\n",
      "-2622.05313639\n",
      "-2622.05315588\n",
      "-2622.05316203\n",
      "-2622.05316836\n",
      "-2622.05317807\n",
      "-2622.05318078\n"
     ]
    },
    {
     "name": "stderr",
     "output_type": "stream",
     "text": [
      "/Users/val/MEGAsync/GLM_PythonModules/notebooks/../code/PoissonProcessClasses.py:169: FutureWarning: comparison to `None` will result in an elementwise object comparison in the future.\n",
      "  if start_coef==None:\n",
      "/Users/val/anaconda/lib/python3.4/site-packages/scipy/optimize/_minimize.py:362: RuntimeWarning: Method L-BFGS-B does not use Hessian information (hess).\n",
      "  RuntimeWarning)\n",
      "/Users/val/MEGAsync/GLM_PythonModules/notebooks/../code/PoissonProcessClasses.py:171: OptimizeWarning: Unknown solver options: maxfev\n",
      "  res = optimize.minimize(self.negLogL,start_coef,jac = self.gradNegLogL,hess = self.hessNegLogL, args = y, options = opts, method = method)\n"
     ]
    }
   ],
   "source": [
    "res = model.fit(y,start_coef = pars0,maxiter = 500,method = 'L-BFGS-B')"
   ]
  },
  {
   "cell_type": "markdown",
   "metadata": {},
   "source": [
    "Optimization results:"
   ]
  },
  {
   "cell_type": "code",
   "execution_count": 19,
   "metadata": {
    "collapsed": false
   },
   "outputs": [
    {
     "name": "stdout",
     "output_type": "stream",
     "text": [
      "     nit: 303\n",
      "  status: 0\n",
      " message: b'CONVERGENCE: REL_REDUCTION_OF_F_<=_FACTR*EPSMCH'\n",
      "     fun: -2622.0531807765924\n",
      "     jac: array([ 0.02454943, -0.02685258, -0.02488868, -0.00412308, -0.01858206,\n",
      "        0.03924595,  0.16784614,  0.21752727,  0.13450727,  0.00195742,\n",
      "       -0.01022792, -0.00494685, -0.0183314 ,  0.02328966,  0.01133687,\n",
      "       -0.00944875])\n",
      "    nfev: 329\n",
      "       x: array([  4.37068505e-02,   2.57996778e-01,   8.88368183e-01,\n",
      "         1.24323609e+00,   9.56581074e-01,   4.63212194e-01,\n",
      "        -8.40953345e-01,  -2.09171826e-03,   7.39851459e-02,\n",
      "        -1.23367823e-01,  -1.82937408e+01,   6.08852195e+01,\n",
      "        -1.02165778e+02,  -3.89551012e+01,  -1.01257541e+01,\n",
      "         2.91769697e+00])\n",
      " success: True\n"
     ]
    }
   ],
   "source": [
    "print(res)"
   ]
  },
  {
   "cell_type": "markdown",
   "metadata": {},
   "source": [
    "Creating the predicted filters:"
   ]
  },
  {
   "cell_type": "code",
   "execution_count": 20,
   "metadata": {
    "collapsed": true
   },
   "outputs": [],
   "source": [
    "k_coeff_predicted = res.x[:10]\n",
    "h_coeff_predicted = res.x[10:15]"
   ]
  },
  {
   "cell_type": "code",
   "execution_count": 21,
   "metadata": {
    "collapsed": false
   },
   "outputs": [],
   "source": [
    "kfilter_predicted = np.dot(K,k_coeff_predicted)\n",
    "hfilter_predicted = np.dot(H_orth,h_coeff_predicted)"
   ]
  },
  {
   "cell_type": "code",
   "execution_count": 22,
   "metadata": {
    "collapsed": false
   },
   "outputs": [],
   "source": [
    "k_coeff = np.array([ 0.061453,0.284916,0.860335,1.256983,0.910615,0.488660,-0.887091,0.097441,0.026607,-0.090147])\n",
    "h_coeff = np.array([-15.18,38.24,-67.58,-14.06,-3.36])\n",
    "\n",
    "kfilter_true = np.dot(K,k_coeff)\n",
    "hfilter_true = np.dot(H_orth,h_coeff)"
   ]
  },
  {
   "cell_type": "code",
   "execution_count": 23,
   "metadata": {
    "collapsed": false
   },
   "outputs": [
    {
     "data": {
      "text/plain": [
       "<matplotlib.legend.Legend at 0x10c10f0b8>"
      ]
     },
     "execution_count": 23,
     "metadata": {},
     "output_type": "execute_result"
    },
    {
     "data": {
      "image/png": "[encoded data removed]",
      "text/plain": [
       "<matplotlib.figure.Figure at 0x10c10f1d0>"
      ]
     },
     "metadata": {},
     "output_type": "display_data"
    }
   ],
   "source": [
    "plt.plot(-kt_domain[::-1],kfilter_predicted,color = \"r\",label = 'predicted')\n",
    "plt.hold(True)\n",
    "plt.plot(-kt_domain[::-1],kfilter_true,color= \"blue\",label = 'true')\n",
    "plt.hold(True)\n",
    "plt.plot(-kt_domain[::-1],np.dot(K,coeff_k0),color = \"g\",label = 'initial')\n",
    "plt.legend(loc = 'upper left')"
   ]
  },
  {
   "cell_type": "code",
   "execution_count": null,
   "metadata": {
    "collapsed": true
   },
   "outputs": [],
   "source": []
  },
  {
   "cell_type": "code",
   "execution_count": 24,
   "metadata": {
    "collapsed": false
   },
   "outputs": [
    {
     "data": {
      "text/plain": [
       "<matplotlib.legend.Legend at 0x10c115780>"
      ]
     },
     "execution_count": 24,
     "metadata": {},
     "output_type": "execute_result"
    },
    {
     "data": {
      "image/png": "[encoded data removed]",
      "text/plain": [
       "<matplotlib.figure.Figure at 0x10c115668>"
      ]
     },
     "metadata": {},
     "output_type": "display_data"
    }
   ],
   "source": [
    "plt.plot(ht_domain,hfilter_predicted,color = \"r\",label = 'predicted')\n",
    "plt.hold(True)\n",
    "plt.plot(ht_domain,hfilter_true,color = \"b\",label = 'true')\n",
    "plt.hold(True)\n",
    "plt.plot(ht_domain,np.dot(H_orth,coeff_h0),color = \"g\",label = 'initial')\n",
    "plt.legend(loc = 'lower right')"
   ]
  },
  {
   "cell_type": "code",
   "execution_count": null,
   "metadata": {
    "collapsed": false
   },
   "outputs": [],
   "source": []
  },
  {
   "cell_type": "code",
   "execution_count": null,
   "metadata": {
    "collapsed": false
   },
   "outputs": [],
   "source": []
  },
  {
   "cell_type": "code",
   "execution_count": null,
   "metadata": {
    "collapsed": false
   },
   "outputs": [],
   "source": []
  },
  {
   "cell_type": "code",
   "execution_count": null,
   "metadata": {
    "collapsed": false
   },
   "outputs": [],
   "source": []
  },
  {
   "cell_type": "code",
   "execution_count": null,
   "metadata": {
    "collapsed": false
   },
   "outputs": [],
   "source": []
  },
  {
   "cell_type": "markdown",
   "metadata": {
    "collapsed": false
   },
   "source": []
  },
  {
   "cell_type": "code",
   "execution_count": null,
   "metadata": {
    "collapsed": false
   },
   "outputs": [],
   "source": []
  },
  {
   "cell_type": "code",
   "execution_count": null,
   "metadata": {
    "collapsed": false
   },
   "outputs": [],
   "source": []
  },
  {
   "cell_type": "code",
   "execution_count": null,
   "metadata": {
    "collapsed": false
   },
   "outputs": [],
   "source": []
  },
  {
   "cell_type": "code",
   "execution_count": null,
   "metadata": {
    "collapsed": false
   },
   "outputs": [],
   "source": []
  },
  {
   "cell_type": "code",
   "execution_count": null,
   "metadata": {
    "collapsed": false
   },
   "outputs": [],
   "source": []
  },
  {
   "cell_type": "code",
   "execution_count": null,
   "metadata": {
    "collapsed": false
   },
   "outputs": [],
   "source": []
  },
  {
   "cell_type": "code",
   "execution_count": null,
   "metadata": {
    "collapsed": true
   },
   "outputs": [],
   "source": []
  },
  {
   "cell_type": "code",
   "execution_count": null,
   "metadata": {
    "collapsed": true
   },
   "outputs": [],
   "source": []
  },
  {
   "cell_type": "code",
   "execution_count": null,
   "metadata": {
    "collapsed": true
   },
   "outputs": [],
   "source": []
  },
  {
   "cell_type": "code",
   "execution_count": null,
   "metadata": {
    "collapsed": true
   },
   "outputs": [],
   "source": []
  }
 ],
 "metadata": {
  "kernelspec": {
   "display_name": "Python 3",
   "language": "python",
   "name": "python3"
  },
  "language_info": {
   "codemirror_mode": {
    "name": "ipython",
    "version": 3
   },
   "file_extension": ".py",
   "mimetype": "text/x-python",
   "name": "python",
   "nbconvert_exporter": "python",
   "pygments_lexer": "ipython3",
   "version": "3.4.3"
  }
 },
 "nbformat": 4,
 "nbformat_minor": 0
}
